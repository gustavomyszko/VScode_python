{
 "metadata": {
  "language_info": {
   "codemirror_mode": {
    "name": "ipython",
    "version": 3
   },
   "file_extension": ".py",
   "mimetype": "text/x-python",
   "name": "python",
   "nbconvert_exporter": "python",
   "pygments_lexer": "ipython3",
   "version": "3.8.9"
  },
  "orig_nbformat": 2,
  "kernelspec": {
   "name": "python389jvsc74a57bd0aa8e4de9f4426ab75fdef01f3d7947e2b3e9cfbdb80ba65115d4f20988c8517e",
   "display_name": "Python 3.8.9 64-bit"
  },
  "metadata": {
   "interpreter": {
    "hash": "aa8e4de9f4426ab75fdef01f3d7947e2b3e9cfbdb80ba65115d4f20988c8517e"
   }
  }
 },
 "nbformat": 4,
 "nbformat_minor": 2,
 "cells": [
  {
   "cell_type": "code",
   "execution_count": 15,
   "metadata": {},
   "outputs": [],
   "source": [
    "import pandas as pd;"
   ]
  },
  {
   "cell_type": "code",
   "execution_count": 23,
   "metadata": {},
   "outputs": [
    {
     "output_type": "stream",
     "name": "stdout",
     "text": [
      "   movieId                               title  \\\n0        1                    Toy Story (1995)   \n1        2                      Jumanji (1995)   \n2        3             Grumpier Old Men (1995)   \n3        4            Waiting to Exhale (1995)   \n4        5  Father of the Bride Part II (1995)   \n5        6                         Heat (1995)   \n6        7                      Sabrina (1995)   \n7        8                 Tom and Huck (1995)   \n8        9                 Sudden Death (1995)   \n9       10                    GoldenEye (1995)   \n\n                                        genres  \n0  Adventure|Animation|Children|Comedy|Fantasy  \n1                   Adventure|Children|Fantasy  \n2                               Comedy|Romance  \n3                         Comedy|Drama|Romance  \n4                                       Comedy  \n5                        Action|Crime|Thriller  \n6                               Comedy|Romance  \n7                           Adventure|Children  \n8                                       Action  \n9                    Action|Adventure|Thriller  \n"
     ]
    }
   ],
   "source": [
    "uri = \"https://raw.githubusercontent.com/alura-cursos/introducao-a-data-science/master/aula4.1/movies.csv\"\n",
    "filmes = pd.read_csv (uri) #dataframe\n",
    "print (filmes.head(10))"
   ]
  },
  {
   "cell_type": "code",
   "execution_count": null,
   "metadata": {},
   "outputs": [],
   "source": []
  }
 ]
}