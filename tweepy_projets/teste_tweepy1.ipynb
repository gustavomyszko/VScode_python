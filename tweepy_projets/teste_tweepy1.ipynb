{
 "metadata": {
  "language_info": {
   "codemirror_mode": {
    "name": "ipython",
    "version": 3
   },
   "file_extension": ".py",
   "mimetype": "text/x-python",
   "name": "python",
   "nbconvert_exporter": "python",
   "pygments_lexer": "ipython3",
   "version": "3.8.9"
  },
  "orig_nbformat": 2,
  "kernelspec": {
   "name": "python389jvsc74a57bd0aa8e4de9f4426ab75fdef01f3d7947e2b3e9cfbdb80ba65115d4f20988c8517e",
   "display_name": "Python 3.8.9 64-bit"
  }
 },
 "nbformat": 4,
 "nbformat_minor": 2,
 "cells": [
  {
   "cell_type": "code",
   "execution_count": 5,
   "metadata": {},
   "outputs": [
    {
     "output_type": "stream",
     "name": "stdout",
     "text": [
      "<tweepy.auth.OAuthHandler object at 0x00000178C62BAB80>\n"
     ]
    }
   ],
   "source": [
    "%run ./keys.ipynb"
   ]
  },
  {
   "cell_type": "code",
   "execution_count": 9,
   "metadata": {},
   "outputs": [
    {
     "output_type": "stream",
     "name": "stdout",
     "text": [
      "----------------------------------------------\n",
      "User: neymarjr\n",
      "----------------------------------------------\n",
      "followers: 53288549\n",
      "----------------------------------------------\n",
      "Friends: 643\n",
      "----------------------------------------------\n",
      "Friends Base:\n",
      "LParedss 234\n",
      "WFLWorldRun 1703\n",
      "jukagod 264\n",
      "FortniteGame 99\n",
      "rafakalimann_ 3572\n",
      "richarlison97 254\n",
      "rafauccman 110\n",
      "gessicakayane 271\n",
      "kevinho 108\n",
      "WesleySafadao 535\n",
      "maisa 9219\n",
      "luisasonza 947\n",
      "emimernes_ 378\n",
      "felipeprior 1000\n",
      "MariliaMReal 568\n",
      "orenatoalbani 259\n",
      "jojotodynhoofc 532\n",
      "rafaelportugal 826\n",
      "IbaiLlanos 755\n",
      "Superdry 1661\n",
      "----------------------------------------------\n"
     ]
    }
   ],
   "source": [
    "user = api.get_user('@neymarjr')\n",
    "print(\"----------------------------------------------\")\n",
    "print(\"User:\", user.screen_name)\n",
    "print(\"----------------------------------------------\")\n",
    "print(\"followers:\", user.followers_count)\n",
    "print(\"----------------------------------------------\")\n",
    "print (\"Friends:\", user.friends_count)\n",
    "print(\"----------------------------------------------\")\n",
    "print(\"Friends Base:\")\n",
    "for friend in user.friends():\n",
    "   print(friend.screen_name, friend.friends_count)\n",
    "print(\"----------------------------------------------\")"
   ]
  },
  {
   "cell_type": "code",
   "execution_count": null,
   "metadata": {},
   "outputs": [],
   "source": []
  }
 ]
}