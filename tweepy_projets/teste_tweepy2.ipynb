{
 "metadata": {
  "language_info": {
   "codemirror_mode": {
    "name": "ipython",
    "version": 3
   },
   "file_extension": ".py",
   "mimetype": "text/x-python",
   "name": "python",
   "nbconvert_exporter": "python",
   "pygments_lexer": "ipython3",
   "version": "3.8.9"
  },
  "orig_nbformat": 2,
  "kernelspec": {
   "name": "python389jvsc74a57bd0aa8e4de9f4426ab75fdef01f3d7947e2b3e9cfbdb80ba65115d4f20988c8517e",
   "display_name": "Python 3.8.9 64-bit"
  }
 },
 "nbformat": 4,
 "nbformat_minor": 2,
 "cells": [
  {
   "cell_type": "code",
   "execution_count": 11,
   "metadata": {},
   "outputs": [
    {
     "output_type": "stream",
     "name": "stdout",
     "text": [
      "<tweepy.auth.OAuthHandler object at 0x0000015A34074130>\n"
     ]
    }
   ],
   "source": [
    "%run ./keys.ipynb"
   ]
  },
  {
   "cell_type": "code",
   "execution_count": null,
   "metadata": {},
   "outputs": [],
   "source": [
    "#for i in cursor:\n",
    "    #print (i)"
   ]
  },
  {
   "cell_type": "code",
   "execution_count": 84,
   "metadata": {},
   "outputs": [
    {
     "output_type": "stream",
     "name": "stdout",
     "text": [
      "['__class__', '__delattr__', '__dict__', '__dir__', '__doc__', '__eq__', '__format__', '__ge__', '__getattribute__', '__getstate__', '__gt__', '__hash__', '__init__', '__init_subclass__', '__le__', '__lt__', '__module__', '__ne__', '__new__', '__reduce__', '__reduce_ex__', '__repr__', '__setattr__', '__sizeof__', '__str__', '__subclasshook__', '__weakref__', '_api', '_json', 'contributors_enabled', 'created_at', 'default_profile', 'default_profile_image', 'description', 'entities', 'favourites_count', 'follow', 'follow_request_sent', 'followers', 'followers_count', 'followers_ids', 'following', 'friends', 'friends_count', 'geo_enabled', 'has_extended_profile', 'id', 'id_str', 'is_translation_enabled', 'is_translator', 'lang', 'listed_count', 'lists', 'lists_memberships', 'lists_subscriptions', 'location', 'name', 'notifications', 'parse', 'parse_list', 'profile_background_color', 'profile_background_image_url', 'profile_background_image_url_https', 'profile_background_tile', 'profile_banner_url', 'profile_image_url', 'profile_image_url_https', 'profile_link_color', 'profile_sidebar_border_color', 'profile_sidebar_fill_color', 'profile_text_color', 'profile_use_background_image', 'protected', 'screen_name', 'statuses_count', 'time_zone', 'timeline', 'translator_type', 'unfollow', 'url', 'utc_offset', 'verified', 'withheld_in_countries']\n"
     ]
    }
   ],
   "source": [
    "cursor = tw.Cursor(api.user_timeline,id='@neymarjr',tweet_mode=\"extended\").items(1)\n",
    "for i in cursor:\n",
    "    print (dir(i.user))"
   ]
  },
  {
   "cell_type": "code",
   "execution_count": 108,
   "metadata": {},
   "outputs": [
    {
     "output_type": "stream",
     "name": "stdout",
     "text": [
      "▶️ Tweet:  1 \n\n👽 @ neymarjr\n👦🏻 Neymar Jr \n\n🔊 Text: \n ONLY SEE GREAT 👀 @PUMA https://t.co/BWxeM6Y7UD \n\n👀 Retweets:  1188\n❤️ Favorites:  39191\n\n-----------------------\n\n▶️ Tweet:  2 \n\n👽 @ neymarjr\n👦🏻 Neymar Jr \n\n🔊 Text: \n Estou animado por estar fazendo parte do https://t.co/IzHYTclXUk como Embaixador Cultural. Visite PSxNJR para ver como o poker está se conectando com a cultura, e fique ligado para saber mais.\nhttps://t.co/qxkFR7WO1A\n#ImIn #PSxNJR #neyday https://t.co/LdpEPzcKSP \n\n👀 Retweets:  571\n❤️ Favorites:  18404\n\n-----------------------\n\n▶️ Tweet:  3 \n\n👽 @ neymarjr\n👦🏻 Neymar Jr \n\n🔊 Text: \n ICI C’EST PARIS MON AMI @LParedss https://t.co/aBIVnFtM7d \n\n👀 Retweets:  31489\n❤️ Favorites:  241075\n\n-----------------------\n\n▶️ Tweet:  4 \n\n👽 @ neymarjr\n👦🏻 Neymar Jr \n\n🔊 Text: \n Eu começo e vocês continuam ..... \n“Parapapapapapapapapa\nPaparapaparapaparaclackbum ...” \n\n👀 Retweets:  26415\n❤️ Favorites:  255335\n\n-----------------------\n\n▶️ Tweet:  5 \n\n👽 @ neymarjr\n👦🏻 Neymar Jr \n\n🔊 Text: \n Que Deus nos abençoe e nos proteja 🙏🏽❤️⚽️ #UCL https://t.co/6foZVUg5gn \n\n👀 Retweets:  14796\n❤️ Favorites:  139898\n\n-----------------------\n\n▶️ Tweet:  6 \n\n👽 @ neymarjr\n👦🏻 Neymar Jr \n\n🔊 Text: \n Que Deus nos abençoe e nos proteja 🙏🏽❤️⚽️ \n\n👀 Retweets:  25783\n❤️ Favorites:  303808\n\n-----------------------\n\n▶️ Tweet:  7 \n\n👽 @ neymarjr\n👦🏻 Neymar Jr \n\n🔊 Text: \n Hj tem 😜🤫 \n\n👀 Retweets:  39230\n❤️ Favorites:  284392\n\n-----------------------\n\n▶️ Tweet:  8 \n\n👽 @ neymarjr\n👦🏻 Neymar Jr \n\n🔊 Text: \n @eulaliaa94 Pior que já pegou um 🤣🤣🤣🤣 \n\n👀 Retweets:  2052\n❤️ Favorites:  24941\n\n-----------------------\n\n▶️ Tweet:  9 \n\n👽 @ neymarjr\n👦🏻 Neymar Jr \n\n🔊 Text: \n Inscrições de curso de pênaltis estão abertas ... acesse o site https://t.co/k1zjBwwai8 e adquira já a sua vaga 🤣🤣🤣🤣 #brincadeira #tozoando #JOGAO \n\n👀 Retweets:  15499\n❤️ Favorites:  126493\n\n-----------------------\n\n▶️ Tweet:  10 \n\n👽 @ neymarjr\n👦🏻 Neymar Jr \n\n🔊 Text: \n PICK DUST2 😜 https://t.co/AAffb3krKb \n\n👀 Retweets:  994\n❤️ Favorites:  33447\n\n-----------------------\n\n▶️ Tweet:  11 \n\n👽 @ neymarjr\n👦🏻 Neymar Jr \n\n🔊 Text: \n @orenatoalbani 🤣🤣🤣🤣 \n\n👀 Retweets:  13\n❤️ Favorites:  1172\n\n-----------------------\n\n▶️ Tweet:  12 \n\n👽 @ neymarjr\n👦🏻 Neymar Jr \n\n🔊 Text: \n Lutar até o fim ... ❤️💙 https://t.co/xelMc9AcDz \n\n👀 Retweets:  22529\n❤️ Favorites:  307197\n\n-----------------------\n\n▶️ Tweet:  13 \n\n👽 @ neymarjr\n👦🏻 Neymar Jr \n\n🔊 Text: \n Que Deus nos abençoe e nos proteja 🙏🏽❤️⚽️ https://t.co/OXQjOPiaQ6 \n\n👀 Retweets:  23614\n❤️ Favorites:  215919\n\n-----------------------\n\n▶️ Tweet:  14 \n\n👽 @ neymarjr\n👦🏻 Neymar Jr \n\n🔊 Text: \n 🔥 https://t.co/dJh0CbzCUa \n\n👀 Retweets:  43231\n❤️ Favorites:  362675\n\n-----------------------\n\n▶️ Tweet:  15 \n\n👽 @ neymarjr\n👦🏻 Neymar Jr \n\n🔊 Text: \n RT @agencianrsports: 🆕 Tem bastidor novo\n🎬 https://t.co/dy7u1FsNte\n🔔 Inscreva-se!\n\nNeymar Jr e @pokerstars se encontraram em 2020 para uma… \n\n👀 Retweets:  328\n❤️ Favorites:  0\n\n-----------------------\n\n▶️ Tweet:  16 \n\n👽 @ neymarjr\n👦🏻 Neymar Jr \n\n🔊 Text: \n In the mood for Great ✨\n@pumafootball https://t.co/3b90vXPMd9 \n\n👀 Retweets:  4455\n❤️ Favorites:  124896\n\n-----------------------\n\n▶️ Tweet:  17 \n\n👽 @ neymarjr\n👦🏻 Neymar Jr \n\n🔊 Text: \n 1° de abril 🤟🏽 https://t.co/U4ePzZgx5N \n\n👀 Retweets:  5052\n❤️ Favorites:  110467\n\n-----------------------\n\n▶️ Tweet:  18 \n\n👽 @ neymarjr\n👦🏻 Neymar Jr \n\n🔊 Text: \n Depois de muita pressão dela, tenho que assumir ... entrei pro time dos casados.\n me apaixonei, O PAI TA OFF! \n\n👀 Retweets:  10756\n❤️ Favorites:  252568\n\n-----------------------\n\n▶️ Tweet:  19 \n\n👽 @ neymarjr\n👦🏻 Neymar Jr \n\n🔊 Text: \n 👉🏾 https://t.co/qcCjbiJ6ZF\n@WFLWorldRun https://t.co/IvqjpgQAwq \n\n👀 Retweets:  432\n❤️ Favorites:  13037\n\n-----------------------\n\n▶️ Tweet:  20 \n\n👽 @ neymarjr\n👦🏻 Neymar Jr \n\n🔊 Text: \n @njr_ane Desculpa, mas você assinou um papel que dizia ser secreto 🤣🤷🏽‍♂️ \n\n👀 Retweets:  112\n❤️ Favorites:  7262\n\n-----------------------\n\n"
     ]
    }
   ],
   "source": [
    "cursor = tw.Cursor(api.user_timeline, id='@neymarjr',tweet_mode=\"extended\").items(20)\n",
    "#count tweets:\n",
    "c=0\n",
    "for i in cursor:\n",
    "    c = c+1\n",
    "    print((\"▶️ Tweet: \"),(c),(\"\\n\"))\n",
    "    print((\"👽 @\"),(i.user.screen_name))\n",
    "    print((\"👦🏻\"),(i.user.name),(\"\\n\"))\n",
    "    print((\"🔊 Text: \\n\"),(i.full_text),(\"\\n\"))\n",
    "    print((\"👀 Retweets: \"),(i.retweet_count))\n",
    "    print((\"❤️ Favorites: \"),(i.favorite_count))\n",
    "    print(\"\\n------------------------\\n\")"
   ]
  },
  {
   "cell_type": "code",
   "execution_count": null,
   "metadata": {},
   "outputs": [],
   "source": []
  }
 ]
}