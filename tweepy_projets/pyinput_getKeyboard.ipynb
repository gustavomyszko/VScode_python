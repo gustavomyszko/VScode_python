{
 "metadata": {
  "language_info": {
   "codemirror_mode": {
    "name": "ipython",
    "version": 3
   },
   "file_extension": ".py",
   "mimetype": "text/x-python",
   "name": "python",
   "nbconvert_exporter": "python",
   "pygments_lexer": "ipython3",
   "version": "3.9.2"
  },
  "orig_nbformat": 2,
  "kernelspec": {
   "name": "python392jvsc74a57bd032857276400c4cf0706a3054adcfd76a793ac8fa4e7f90fbb43b6a51ba7a8950",
   "display_name": "Python 3.9.2 64-bit"
  }
 },
 "nbformat": 4,
 "nbformat_minor": 2,
 "cells": [
  {
   "cell_type": "code",
   "execution_count": 1,
   "metadata": {},
   "outputs": [
    {
     "output_type": "stream",
     "name": "stdout",
     "text": [
      "\n",
      "You Entered Key.shift\n",
      "\n",
      "You Entered Key.shift\n",
      "\n",
      "You Entered Key.shift\n",
      "\n",
      "You Entered Key.shift\n",
      "\n",
      "You Entered Key.shift\n",
      "\n",
      "You Entered Key.shift\n",
      "\n",
      "You Entered Key.shift\n",
      "\n",
      "You Entered 'G'\n",
      "\n",
      "You Entered 'u'\n",
      "\n",
      "You Entered 's'\n",
      "\n",
      "You Entered 't'\n",
      "\n",
      "You Entered 'a'\n",
      "\n",
      "You Entered 'v'\n",
      "\n",
      "You Entered 'o'\n",
      "\n",
      "You Entered Key.space\n",
      "\n",
      "You Entered 'g'\n",
      "\n",
      "You Entered 'a'\n",
      "\n",
      "You Entered 'y'\n",
      "\n",
      "You Entered 'b'\n",
      "\n",
      "You Entered '4'\n",
      "\n",
      "You Entered '2'\n",
      "\n",
      "You Entered 'b'\n",
      "\n",
      "You Entered '5'\n",
      "\n",
      "You Entered '2'\n",
      "\n",
      "You Entered 'b'\n",
      "\n",
      "You Entered '1'\n",
      "\n",
      "You Entered '4'\n",
      "\n",
      "You Entered 'b'\n",
      "\n",
      "You Entered Key.backspace\n",
      "\n",
      "You Entered Key.backspace\n",
      "\n",
      "You Entered Key.backspace\n",
      "\n",
      "You Entered Key.backspace\n",
      "\n",
      "You Entered Key.delete\n"
     ]
    }
   ],
   "source": [
    "from pynput.keyboard import Key, Listener\n",
    "  \n",
    "def show(key):\n",
    "  \n",
    "    print('\\nYou Entered {0}'.format( key))\n",
    "  \n",
    "    if key == Key.delete:\n",
    "        # Stop listener\n",
    "        return False\n",
    "  \n",
    "# Collect all event until released\n",
    "with Listener(on_press = show) as listener:   \n",
    "    listener.join()"
   ]
  },
  {
   "cell_type": "code",
   "execution_count": null,
   "metadata": {},
   "outputs": [],
   "source": [
    "sadw 12345"
   ]
  }
 ]
}