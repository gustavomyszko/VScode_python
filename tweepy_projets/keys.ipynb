{
 "metadata": {
  "language_info": {
   "codemirror_mode": {
    "name": "ipython",
    "version": 3
   },
   "file_extension": ".py",
   "mimetype": "text/x-python",
   "name": "python",
   "nbconvert_exporter": "python",
   "pygments_lexer": "ipython3",
   "version": "3.8.9"
  },
  "orig_nbformat": 2,
  "kernelspec": {
   "name": "python389jvsc74a57bd0aa8e4de9f4426ab75fdef01f3d7947e2b3e9cfbdb80ba65115d4f20988c8517e",
   "display_name": "Python 3.8.9 64-bit"
  }
 },
 "nbformat": 4,
 "nbformat_minor": 2,
 "cells": [
  {
   "cell_type": "code",
   "execution_count": 12,
   "metadata": {},
   "outputs": [],
   "source": [
    "import tweepy as tw \n",
    "import pandas as pd "
   ]
  },
  {
   "cell_type": "code",
   "execution_count": 13,
   "metadata": {},
   "outputs": [],
   "source": [
    "# Bearer Token AAAAAAAAAAAAAAAAAAAAAMKMOgEAAAAAmhrbVZOEobB3mBB9Xat10o8NfBQ%3Dhzwna0sG7krOf214HMjZuNnBiUS7FEgwWR0uI8eC6dF57CY4uf\r\n",
    "\r\n",
    "auth = tw.OAuthHandler(\"5lx6pCIoLyf775KNkTwI5P7f0\", \"25e5lP5Ryii2PBXKdoOtelPCH9yVmzuauMoHD6FvImFKABCPCf\")\r\n",
    "auth.set_access_token(\"2414441038-3haleuWZ4HtBmVKF8jDrIvDIOJ5DJqFsfZzD4OQ\", \"9QOMxT1di3zznxoAHcjr7rfcEkAgr4yOTHnGQ1luFfWd4\")\r\n",
    "\r\n",
    "api = tw.API(auth)\r\n",
    "print(auth)"
   ]
  }
 ]
}