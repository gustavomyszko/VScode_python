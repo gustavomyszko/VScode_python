{
 "metadata": {
  "language_info": {
   "codemirror_mode": {
    "name": "ipython",
    "version": 3
   },
   "file_extension": ".py",
   "mimetype": "text/x-python",
   "name": "python",
   "nbconvert_exporter": "python",
   "pygments_lexer": "ipython3",
   "version": "3.9.2"
  },
  "orig_nbformat": 2,
  "kernelspec": {
   "name": "python392jvsc74a57bd032857276400c4cf0706a3054adcfd76a793ac8fa4e7f90fbb43b6a51ba7a8950",
   "display_name": "Python 3.9.2 64-bit"
  },
  "metadata": {
   "interpreter": {
    "hash": "32857276400c4cf0706a3054adcfd76a793ac8fa4e7f90fbb43b6a51ba7a8950"
   }
  }
 },
 "nbformat": 4,
 "nbformat_minor": 2,
 "cells": [
  {
   "cell_type": "code",
   "execution_count": 1,
   "metadata": {},
   "outputs": [
    {
     "output_type": "stream",
     "name": "stdout",
     "text": [
      "#tweepy-version:  3.10.0\n#pandas-version:  1.2.4\n#Authenticator:  <tweepy.auth.OAuthHandler object at 0x0000027D03469A30>\n"
     ]
    }
   ],
   "source": [
    "%run ./tw_keys.ipynb"
   ]
  },
  {
   "cell_type": "code",
   "execution_count": 3,
   "metadata": {},
   "outputs": [
    {
     "output_type": "stream",
     "name": "stdout",
     "text": [
      "['__add__', '__class__', '__contains__', '__delattr__', '__dir__', '__doc__', '__eq__', '__format__', '__ge__', '__getattribute__', '__getitem__', '__getnewargs__', '__gt__', '__hash__', '__init__', '__init_subclass__', '__iter__', '__le__', '__len__', '__lt__', '__mod__', '__mul__', '__ne__', '__new__', '__reduce__', '__reduce_ex__', '__repr__', '__rmod__', '__rmul__', '__setattr__', '__sizeof__', '__str__', '__subclasshook__', 'capitalize', 'casefold', 'center', 'count', 'encode', 'endswith', 'expandtabs', 'find', 'format', 'format_map', 'index', 'isalnum', 'isalpha', 'isascii', 'isdecimal', 'isdigit', 'isidentifier', 'islower', 'isnumeric', 'isprintable', 'isspace', 'istitle', 'isupper', 'join', 'ljust', 'lower', 'lstrip', 'maketrans', 'partition', 'removeprefix', 'removesuffix', 'replace', 'rfind', 'rindex', 'rjust', 'rpartition', 'rsplit', 'rstrip', 'split', 'splitlines', 'startswith', 'strip', 'swapcase', 'title', 'translate', 'upper', 'zfill']\n"
     ]
    }
   ],
   "source": [
    "cursor = tw.Cursor(api.user_timeline,id='@neymarjr',tweet_mode=\"extended\").items(1)\n",
    "for i in cursor:\n",
    "    print (dir(i.user.profile_link_color))"
   ]
  },
  {
   "cell_type": "code",
   "execution_count": 4,
   "metadata": {},
   "outputs": [
    {
     "output_type": "stream",
     "name": "stdout",
     "text": [
      "▶️ Tweet:  1 \n\n👽 @ neymarjr\n👦🏻 Neymar Jr \n\n🔊 Text: \n ALLEZ PSG ❤️💙 https://t.co/xP2SGp2Pf4 \n\n👀 Retweets:  5456\n❤️ Favorites:  92510\n\n------------------------\n\n▶️ Tweet:  2 \n\n👽 @ neymarjr\n👦🏻 Neymar Jr \n\n🔊 Text: \n ONLY SEE GREAT 👀 @PUMA https://t.co/BWxeM6Y7UD \n\n👀 Retweets:  1213\n❤️ Favorites:  39685\n\n------------------------\n\n▶️ Tweet:  3 \n\n👽 @ neymarjr\n👦🏻 Neymar Jr \n\n🔊 Text: \n Estou animado por estar fazendo parte do https://t.co/IzHYTclXUk como Embaixador Cultural. Visite PSxNJR para ver como o poker está se conectando com a cultura, e fique ligado para saber mais.\nhttps://t.co/qxkFR7WO1A\n#ImIn #PSxNJR #neyday https://t.co/LdpEPzcKSP \n\n👀 Retweets:  583\n❤️ Favorites:  18619\n\n------------------------\n\n▶️ Tweet:  4 \n\n👽 @ neymarjr\n👦🏻 Neymar Jr \n\n🔊 Text: \n ICI C’EST PARIS MON AMI @LParedss https://t.co/aBIVnFtM7d \n\n👀 Retweets:  31508\n❤️ Favorites:  241687\n\n------------------------\n\n▶️ Tweet:  5 \n\n👽 @ neymarjr\n👦🏻 Neymar Jr \n\n🔊 Text: \n Eu começo e vocês continuam ..... \n“Parapapapapapapapapa\nPaparapaparapaparaclackbum ...” \n\n👀 Retweets:  26406\n❤️ Favorites:  255956\n\n------------------------\n\n▶️ Tweet:  6 \n\n👽 @ neymarjr\n👦🏻 Neymar Jr \n\n🔊 Text: \n Que Deus nos abençoe e nos proteja 🙏🏽❤️⚽️ #UCL https://t.co/6foZVUg5gn \n\n👀 Retweets:  14800\n❤️ Favorites:  140077\n\n------------------------\n\n▶️ Tweet:  7 \n\n👽 @ neymarjr\n👦🏻 Neymar Jr \n\n🔊 Text: \n Que Deus nos abençoe e nos proteja 🙏🏽❤️⚽️ \n\n👀 Retweets:  25789\n❤️ Favorites:  304062\n\n------------------------\n\n▶️ Tweet:  8 \n\n👽 @ neymarjr\n👦🏻 Neymar Jr \n\n🔊 Text: \n Hj tem 😜🤫 \n\n👀 Retweets:  39205\n❤️ Favorites:  284637\n\n------------------------\n\n▶️ Tweet:  9 \n\n👽 @ neymarjr\n👦🏻 Neymar Jr \n\n🔊 Text: \n @eulaliaa94 Pior que já pegou um 🤣🤣🤣🤣 \n\n👀 Retweets:  2052\n❤️ Favorites:  24943\n\n------------------------\n\n▶️ Tweet:  10 \n\n👽 @ neymarjr\n👦🏻 Neymar Jr \n\n🔊 Text: \n Inscrições de curso de pênaltis estão abertas ... acesse o site https://t.co/k1zjBwwai8 e adquira já a sua vaga 🤣🤣🤣🤣 #brincadeira #tozoando #JOGAO \n\n👀 Retweets:  15483\n❤️ Favorites:  126502\n\n------------------------\n\n▶️ Tweet:  11 \n\n👽 @ neymarjr\n👦🏻 Neymar Jr \n\n🔊 Text: \n PICK DUST2 😜 https://t.co/AAffb3krKb \n\n👀 Retweets:  996\n❤️ Favorites:  33469\n\n------------------------\n\n▶️ Tweet:  12 \n\n👽 @ neymarjr\n👦🏻 Neymar Jr \n\n🔊 Text: \n @orenatoalbani 🤣🤣🤣🤣 \n\n👀 Retweets:  13\n❤️ Favorites:  1172\n\n------------------------\n\n▶️ Tweet:  13 \n\n👽 @ neymarjr\n👦🏻 Neymar Jr \n\n🔊 Text: \n Lutar até o fim ... ❤️💙 https://t.co/xelMc9AcDz \n\n👀 Retweets:  22528\n❤️ Favorites:  307227\n\n------------------------\n\n▶️ Tweet:  14 \n\n👽 @ neymarjr\n👦🏻 Neymar Jr \n\n🔊 Text: \n Que Deus nos abençoe e nos proteja 🙏🏽❤️⚽️ https://t.co/OXQjOPiaQ6 \n\n👀 Retweets:  23609\n❤️ Favorites:  215983\n\n------------------------\n\n▶️ Tweet:  15 \n\n👽 @ neymarjr\n👦🏻 Neymar Jr \n\n🔊 Text: \n 🔥 https://t.co/dJh0CbzCUa \n\n👀 Retweets:  43224\n❤️ Favorites:  362712\n\n------------------------\n\n▶️ Tweet:  16 \n\n👽 @ neymarjr\n👦🏻 Neymar Jr \n\n🔊 Text: \n RT @agencianrsports: 🆕 Tem bastidor novo\n🎬 https://t.co/dy7u1FsNte\n🔔 Inscreva-se!\n\nNeymar Jr e @pokerstars se encontraram em 2020 para uma… \n\n👀 Retweets:  330\n❤️ Favorites:  0\n\n------------------------\n\n▶️ Tweet:  17 \n\n👽 @ neymarjr\n👦🏻 Neymar Jr \n\n🔊 Text: \n In the mood for Great ✨\n@pumafootball https://t.co/3b90vXPMd9 \n\n👀 Retweets:  4459\n❤️ Favorites:  124938\n\n------------------------\n\n▶️ Tweet:  18 \n\n👽 @ neymarjr\n👦🏻 Neymar Jr \n\n🔊 Text: \n 1° de abril 🤟🏽 https://t.co/U4ePzZgx5N \n\n👀 Retweets:  5052\n❤️ Favorites:  110455\n\n------------------------\n\n▶️ Tweet:  19 \n\n👽 @ neymarjr\n👦🏻 Neymar Jr \n\n🔊 Text: \n Depois de muita pressão dela, tenho que assumir ... entrei pro time dos casados.\n me apaixonei, O PAI TA OFF! \n\n👀 Retweets:  10755\n❤️ Favorites:  252540\n\n------------------------\n\n▶️ Tweet:  20 \n\n👽 @ neymarjr\n👦🏻 Neymar Jr \n\n🔊 Text: \n 👉🏾 https://t.co/qcCjbiJ6ZF\n@WFLWorldRun https://t.co/IvqjpgQAwq \n\n👀 Retweets:  432\n❤️ Favorites:  13050\n\n------------------------\n\n"
     ]
    }
   ],
   "source": [
    "\n",
    "cursor = tw.Cursor(api.user_timeline, id='@neymarjr',tweet_mode=\"extended\").items(20)\n",
    "c=0\n",
    "for i in cursor:\n",
    "    c = c+1\n",
    "    print((\"▶️ Tweet: \"),(c),(\"\\n\"))\n",
    "    print((\"👽 @\"),(i.user.screen_name))\n",
    "    print((\"👦🏻\"),(i.user.name),(\"\\n\"))\n",
    "    print((\"🔊 Text: \\n\"),(i.full_text),(\"\\n\"))\n",
    "    print((\"👀 Retweets: \"),(i.retweet_count))\n",
    "    print((\"❤️ Favorites: \"),(i.favorite_count))\n",
    "    print(\"\\n------------------------\\n\")"
   ]
  },
  {
   "cell_type": "code",
   "execution_count": null,
   "metadata": {},
   "outputs": [],
   "source": []
  }
 ]
}