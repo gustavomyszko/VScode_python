{
 "metadata": {
  "language_info": {
   "codemirror_mode": {
    "name": "ipython",
    "version": 3
   },
   "file_extension": ".py",
   "mimetype": "text/x-python",
   "name": "python",
   "nbconvert_exporter": "python",
   "pygments_lexer": "ipython3",
   "version": "3.9.2"
  },
  "orig_nbformat": 2,
  "kernelspec": {
   "name": "python392jvsc74a57bd032857276400c4cf0706a3054adcfd76a793ac8fa4e7f90fbb43b6a51ba7a8950",
   "display_name": "Python 3.9.2 64-bit"
  },
  "metadata": {
   "interpreter": {
    "hash": "32857276400c4cf0706a3054adcfd76a793ac8fa4e7f90fbb43b6a51ba7a8950"
   }
  }
 },
 "nbformat": 4,
 "nbformat_minor": 2,
 "cells": [
  {
   "cell_type": "code",
   "execution_count": 3,
   "metadata": {},
   "outputs": [
    {
     "output_type": "stream",
     "name": "stdout",
     "text": [
      "#tweepy-version:  3.10.0\n#pandas-version:  1.2.4\n#pynput\n#Authenticator:  <tweepy.auth.OAuthHandler object at 0x000002C610C54190>\n"
     ]
    }
   ],
   "source": [
    "%run ./tw_keys.ipynb"
   ]
  },
  {
   "cell_type": "code",
   "execution_count": 4,
   "metadata": {},
   "outputs": [
    {
     "output_type": "stream",
     "name": "stdout",
     "text": [
      "['__add__', '__class__', '__contains__', '__delattr__', '__dir__', '__doc__', '__eq__', '__format__', '__ge__', '__getattribute__', '__getitem__', '__getnewargs__', '__gt__', '__hash__', '__init__', '__init_subclass__', '__iter__', '__le__', '__len__', '__lt__', '__mod__', '__mul__', '__ne__', '__new__', '__reduce__', '__reduce_ex__', '__repr__', '__rmod__', '__rmul__', '__setattr__', '__sizeof__', '__str__', '__subclasshook__', 'capitalize', 'casefold', 'center', 'count', 'encode', 'endswith', 'expandtabs', 'find', 'format', 'format_map', 'index', 'isalnum', 'isalpha', 'isascii', 'isdecimal', 'isdigit', 'isidentifier', 'islower', 'isnumeric', 'isprintable', 'isspace', 'istitle', 'isupper', 'join', 'ljust', 'lower', 'lstrip', 'maketrans', 'partition', 'removeprefix', 'removesuffix', 'replace', 'rfind', 'rindex', 'rjust', 'rpartition', 'rsplit', 'rstrip', 'split', 'splitlines', 'startswith', 'strip', 'swapcase', 'title', 'translate', 'upper', 'zfill']\n\n\n<tweepy.cursor.ItemIterator object at 0x000002C610C54550>\n"
     ]
    }
   ],
   "source": [
    "cursor = tw.Cursor(api.user_timeline,id='@neymarjr',tweet_mode=\"extended\").items(1)\n",
    "for i in cursor:\n",
    "    print (dir(i.user.profile_link_color))\n",
    "    print (\"\\n\")\n",
    "    print(cursor)"
   ]
  },
  {
   "cell_type": "code",
   "execution_count": 5,
   "metadata": {},
   "outputs": [
    {
     "output_type": "stream",
     "name": "stdout",
     "text": [
      "▶️ Tweet:  1 \n\n👽 @GMyszko\n👦🏻 Gustavo Myszko \n\n🔊 Text: \n @10Ronaldinho @Ludmilla dibra memo, deixa ate o psor em choque \n\n👀 Retweets:  0\n❤️ Favorites:  0\n\n------------------------\n\n▶️ Tweet:  2 \n\n👽 @GMyszko\n👦🏻 Gustavo Myszko \n\n🔊 Text: \n @andreiscwb muitoooo bom cara... que gostoso nessa chuva D: \n\n👀 Retweets:  0\n❤️ Favorites:  0\n\n------------------------\n\n▶️ Tweet:  3 \n\n👽 @GMyszko\n👦🏻 Gustavo Myszko \n\n🔊 Text: \n @andreiscwb dog de barraca merrmao o/ \n\n👀 Retweets:  1\n❤️ Favorites:  0\n\n------------------------\n\n▶️ Tweet:  4 \n\n👽 @GMyszko\n👦🏻 Gustavo Myszko \n\n🔊 Text: \n ;-; \n\n👀 Retweets:  0\n❤️ Favorites:  0\n\n------------------------\n\n"
     ]
    }
   ],
   "source": [
    "username = input('Enter with @username for search: ')\n",
    "cursor = tw.Cursor(api.user_timeline, id=username,tweet_mode=\"extended\").items(20)\n",
    "c=0\n",
    "for i in cursor:\n",
    "    c = c+1\n",
    "    print((\"▶️ Tweet: \"),(c),(\"\\n\"))\n",
    "    print((\"👽\"),(username))\n",
    "    print((\"👦🏻\"),(i.user.name),(\"\\n\"))\n",
    "    print((\"🔊 Text: \\n\"),(i.full_text),(\"\\n\"))\n",
    "    print((\"👀 Retweets: \"),(i.retweet_count))\n",
    "    print((\"❤️ Favorites: \"),(i.favorite_count))\n",
    "    print(\"\\n------------------------\\n\") "
   ]
  },
  {
   "cell_type": "code",
   "execution_count": null,
   "metadata": {},
   "outputs": [],
   "source": []
  }
 ]
}