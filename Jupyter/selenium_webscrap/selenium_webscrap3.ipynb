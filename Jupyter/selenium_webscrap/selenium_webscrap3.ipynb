{
 "metadata": {
  "language_info": {
   "codemirror_mode": {
    "name": "ipython",
    "version": 3
   },
   "file_extension": ".py",
   "mimetype": "text/x-python",
   "name": "python",
   "nbconvert_exporter": "python",
   "pygments_lexer": "ipython3",
   "version": "3.8.9"
  },
  "orig_nbformat": 2,
  "kernelspec": {
   "name": "python389jvsc74a57bd0aa8e4de9f4426ab75fdef01f3d7947e2b3e9cfbdb80ba65115d4f20988c8517e",
   "display_name": "Python 3.8.9 64-bit"
  }
 },
 "nbformat": 4,
 "nbformat_minor": 2,
 "cells": [
  {
   "cell_type": "code",
   "execution_count": 62,
   "metadata": {},
   "outputs": [],
   "source": [
    "import pandas as pd\n",
    "from selenium import webdriver\n",
    "from selenium.webdriver.chrome.options import Options\n",
    "from selenium.webdriver.common.by import By\n",
    "import selenium.common.exceptions as exceptions\n",
    "from time import sleep\n",
    "import time"
   ]
  },
  {
   "cell_type": "code",
   "execution_count": 63,
   "metadata": {},
   "outputs": [],
   "source": [
    "driver = webdriver.Chrome(r\"C:\\Users\\gusta\\AppData\\Local\\Programs\\Python\\chromedriver.exe\")"
   ]
  },
  {
   "cell_type": "code",
   "execution_count": 64,
   "metadata": {},
   "outputs": [],
   "source": [
    "#url=\"https://www.coronatracker.com/pt-br/\"\n",
    "driver.get(\"https://www.coronatracker.com/pt-br/\")\n",
    "sleep (3)"
   ]
  },
  {
   "cell_type": "code",
   "execution_count": 65,
   "metadata": {},
   "outputs": [
    {
     "output_type": "stream",
     "name": "stdout",
     "text": [
      "                                               casos\n0  {'casos': '146.124.646', 'curados': '124.210.6...\n1  {'casos': '14.237.078', 'curados': '12.673.785...\n2  {'casos': '32.717.457', 'curados': '25.285.343...\n"
     ]
    }
   ],
   "source": [
    "data = {'casos':\n",
    "    [\n",
    "        {            \n",
    "            'casos':driver.find_element_by_xpath ('//*[@id=\"__layout\"]/div/main/div/div[1]/div[1]/div[1]/div[2]/div[1]/div[1]/span').text,\n",
    "            'curados':driver.find_element_by_xpath ('//*[@id=\"__layout\"]/div/main/div/div[1]/div[1]/div[1]/div[2]/div[2]/div[1]/span').text,\n",
    "            'mortes':driver.find_element_by_xpath ('//*[@id=\"__layout\"]/div/main/div/div[1]/div[1]/div[1]/div[2]/div[3]/div[1]/span').text\n",
    "        },\n",
    "        {            \n",
    "            'casos':driver.find_element_by_xpath('//*[@id=\"__layout\"]/div/main/div/div[2]/div[1]/div[1]/table/tbody/tr[3]/td[2]').text,\n",
    "            'curados':driver.find_element_by_xpath('//*[@id=\"__layout\"]/div/main/div/div[2]/div[1]/div[1]/table/tbody/tr[3]/td[3]').text,\n",
    "            'mortes':driver.find_element_by_xpath('//*[@id=\"__layout\"]/div/main/div/div[2]/div[1]/div[1]/table/tbody/tr[3]/td[4]').text\n",
    "        },\n",
    "        {\n",
    "            'casos':driver.find_element_by_xpath('//*[@id=\"__layout\"]/div/main/div/div[2]/div[1]/div[1]/table/tbody/tr[1]/td[2]').text,\n",
    "            'curados':driver.find_element_by_xpath('//*[@id=\"__layout\"]/div/main/div/div[2]/div[1]/div[1]/table/tbody/tr[1]/td[3]').text,\n",
    "            'mortes':driver.find_element_by_xpath('//*[@id=\"__layout\"]/div/main/div/div[2]/div[1]/div[1]/table/tbody/tr[1]/td[4]').text\n",
    "        }\n",
    "    ]\n",
    "}\n",
    "\n",
    "df = pd.DataFrame(data)\n",
    "(df.to_json())\n",
    "print(df)"
   ]
  }
 ]
}