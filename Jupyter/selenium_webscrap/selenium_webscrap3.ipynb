{
 "metadata": {
  "language_info": {
   "codemirror_mode": {
    "name": "ipython",
    "version": 3
   },
   "file_extension": ".py",
   "mimetype": "text/x-python",
   "name": "python",
   "nbconvert_exporter": "python",
   "pygments_lexer": "ipython3",
   "version": "3.8.9"
  },
  "orig_nbformat": 2,
  "kernelspec": {
   "name": "python389jvsc74a57bd0aa8e4de9f4426ab75fdef01f3d7947e2b3e9cfbdb80ba65115d4f20988c8517e",
   "display_name": "Python 3.8.9 64-bit"
  }
 },
 "nbformat": 4,
 "nbformat_minor": 2,
 "cells": [
  {
   "cell_type": "code",
   "execution_count": 66,
   "metadata": {},
   "outputs": [],
   "source": [
    "import pandas as pd\n",
    "from selenium import webdriver\n",
    "from selenium.webdriver.chrome.options import Options\n",
    "from selenium.webdriver.common.by import By\n",
    "import selenium.common.exceptions as exceptions\n",
    "from time import sleep\n",
    "import time\n",
    "from datetime import datetime"
   ]
  },
  {
   "cell_type": "code",
   "execution_count": 67,
   "metadata": {},
   "outputs": [],
   "source": [
    "driver = webdriver.Chrome(r\"C:\\Users\\gusta\\AppData\\Local\\Programs\\Python\\chromedriver.exe\")"
   ]
  },
  {
   "cell_type": "code",
   "execution_count": 68,
   "metadata": {},
   "outputs": [],
   "source": [
    "#url=\"https://www.coronatracker.com/pt-br/\"\n",
    "driver.get(\"https://www.coronatracker.com/pt-br/\")\n",
    "sleep (3)"
   ]
  },
  {
   "cell_type": "code",
   "execution_count": 69,
   "metadata": {},
   "outputs": [
    {
     "output_type": "stream",
     "name": "stdout",
     "text": [
      "                        data   local        casos      curados     mortes\n0 2021-04-23 19:11:19.820032   mundo  146.144.571  124.228.247  3.097.090\n1 2021-04-23 19:11:19.885302  brasil   14.237.078   12.711.103    386.416\n2 2021-04-23 19:11:19.936763     usa   32.719.126   25.286.464    584.861\n\n---------------------------------------------------------------------\n\n{\"data\":{\"0\":1619205079820,\"1\":1619205079885,\"2\":1619205079936},\"local\":{\"0\":\"mundo\",\"1\":\"brasil\",\"2\":\"usa\"},\"casos\":{\"0\":\"146.144.571\",\"1\":\"14.237.078\",\"2\":\"32.719.126\"},\"curados\":{\"0\":\"124.228.247\",\"1\":\"12.711.103\",\"2\":\"25.286.464\"},\"mortes\":{\"0\":\"3.097.090\",\"1\":\"386.416\",\"2\":\"584.861\"}}\n"
     ]
    }
   ],
   "source": [
    "data = [\n",
    "        {   \n",
    "            'data': datetime.now(),\n",
    "            'local': 'mundo',         \n",
    "            'casos': driver.find_element_by_xpath ('//*[@id=\"__layout\"]/div/main/div/div[1]/div[1]/div[1]/div[2]/div[1]/div[1]/span').text,\n",
    "            'curados': driver.find_element_by_xpath ('//*[@id=\"__layout\"]/div/main/div/div[1]/div[1]/div[1]/div[2]/div[2]/div[1]/span').text,\n",
    "            'mortes': driver.find_element_by_xpath ('//*[@id=\"__layout\"]/div/main/div/div[1]/div[1]/div[1]/div[2]/div[3]/div[1]/span').text\n",
    "        },\n",
    "        {\n",
    "            'data': datetime.now(),\n",
    "            'local': 'brasil',           \n",
    "            'casos': driver.find_element_by_xpath('//*[@id=\"__layout\"]/div/main/div/div[2]/div[1]/div[1]/table/tbody/tr[3]/td[2]').text,\n",
    "            'curados': driver.find_element_by_xpath('//*[@id=\"__layout\"]/div/main/div/div[2]/div[1]/div[1]/table/tbody/tr[3]/td[3]').text,\n",
    "            'mortes': driver.find_element_by_xpath('//*[@id=\"__layout\"]/div/main/div/div[2]/div[1]/div[1]/table/tbody/tr[3]/td[4]').text\n",
    "        },\n",
    "        {\n",
    "            'data': datetime.now(),\n",
    "            'local': 'usa',\n",
    "            'casos': driver.find_element_by_xpath('//*[@id=\"__layout\"]/div/main/div/div[2]/div[1]/div[1]/table/tbody/tr[1]/td[2]').text,\n",
    "            'curados': driver.find_element_by_xpath('//*[@id=\"__layout\"]/div/main/div/div[2]/div[1]/div[1]/table/tbody/tr[1]/td[3]').text,\n",
    "            'mortes': driver.find_element_by_xpath('//*[@id=\"__layout\"]/div/main/div/div[2]/div[1]/div[1]/table/tbody/tr[1]/td[4]').text\n",
    "        }\n",
    "    ]\n",
    "\n",
    "\n",
    "df = pd.DataFrame(data)\n",
    "df.to_json()\n",
    "\n",
    "print(df)\n",
    "print('\\n---------------------------------------------------------------------\\n')\n",
    "print(df.to_json())\n"
   ]
  }
 ]
}