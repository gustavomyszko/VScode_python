{
 "metadata": {
  "language_info": {
   "codemirror_mode": {
    "name": "ipython",
    "version": 3
   },
   "file_extension": ".py",
   "mimetype": "text/x-python",
   "name": "python",
   "nbconvert_exporter": "python",
   "pygments_lexer": "ipython3",
   "version": "3.8.9"
  },
  "orig_nbformat": 2,
  "kernelspec": {
   "name": "python389jvsc74a57bd0aa8e4de9f4426ab75fdef01f3d7947e2b3e9cfbdb80ba65115d4f20988c8517e",
   "display_name": "Python 3.8.9 64-bit"
  }
 },
 "nbformat": 4,
 "nbformat_minor": 2,
 "cells": [
  {
   "cell_type": "code",
   "execution_count": 37,
   "metadata": {},
   "outputs": [],
   "source": [
    "from selenium import webdriver\n",
    "from selenium.webdriver.chrome.options import Options\n",
    "from selenium.webdriver.common.by import By\n",
    "from time import sleep\n",
    "import selenium.common.exceptions as exceptions"
   ]
  },
  {
   "cell_type": "code",
   "execution_count": 38,
   "metadata": {},
   "outputs": [],
   "source": [
    "#local directory of \"chromedriver\"\n",
    "driver = webdriver.Chrome(r\"C:\\Users\\gusta\\AppData\\Local\\Programs\\Python\\chromedriver.exe\")"
   ]
  },
  {
   "cell_type": "code",
   "execution_count": 39,
   "metadata": {},
   "outputs": [
    {
     "output_type": "stream",
     "name": "stdout",
     "text": [
      "casoso no mundo: 145.059.603\ncurados no mundo: 123.375.299\nmortes no mundo: 3.078.923\n"
     ]
    }
   ],
   "source": [
    "#url=\"https://www.coronatracker.com/pt-br/\"\n",
    "driver.get(\"https://www.coronatracker.com/pt-br/\")\n",
    "sleep (2)\n",
    "\n",
    "confirmados_mundo = driver.find_element_by_xpath ('//*[@id=\"__layout\"]/div/main/div/div[1]/div[1]/div[1]/div[2]/div[1]/div[1]/span').text\n",
    "print ('casoso no mundo:',confirmados_mundo)\n",
    "sleep(1)\n",
    "curados_mundo = driver.find_element_by_xpath ('//*[@id=\"__layout\"]/div/main/div/div[1]/div[1]/div[1]/div[2]/div[2]/div[1]/span').text\n",
    "print ('curados no mundo:',curados_mundo)\n",
    "sleep(1)\n",
    "mortes_mundo = driver.find_element_by_xpath ('//*[@id=\"__layout\"]/div/main/div/div[1]/div[1]/div[1]/div[2]/div[3]/div[1]/span').text\n",
    "print (\"mortes no mundo:\",mortes_mundo)"
   ]
  }
 ]
}