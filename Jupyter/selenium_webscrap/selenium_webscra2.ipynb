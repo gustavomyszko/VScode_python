{
 "metadata": {
  "language_info": {
   "codemirror_mode": {
    "name": "ipython",
    "version": 3
   },
   "file_extension": ".py",
   "mimetype": "text/x-python",
   "name": "python",
   "nbconvert_exporter": "python",
   "pygments_lexer": "ipython3",
   "version": "3.8.9"
  },
  "orig_nbformat": 2,
  "kernelspec": {
   "name": "python389jvsc74a57bd0aa8e4de9f4426ab75fdef01f3d7947e2b3e9cfbdb80ba65115d4f20988c8517e",
   "display_name": "Python 3.8.9 64-bit"
  }
 },
 "nbformat": 4,
 "nbformat_minor": 2,
 "cells": [
  {
   "cell_type": "code",
   "execution_count": 14,
   "metadata": {},
   "outputs": [],
   "source": [
    "import pandas as pd\n",
    "from selenium import webdriver\n",
    "from selenium.webdriver.chrome.options import Options\n",
    "from selenium.webdriver.common.by import By\n",
    "from time import sleep\n",
    "import selenium.common.exceptions as exceptions"
   ]
  },
  {
   "cell_type": "code",
   "execution_count": 15,
   "metadata": {},
   "outputs": [],
   "source": [
    "#local directory of \"chromedriver\"\n",
    "#andre dir: C:\\Users\\2019102420\\Desktop\\python_repos\\VScode_python\\driver\\chromedriver.exe\n",
    "#gustavo dir: C:\\Users\\gusta\\AppData\\Local\\Programs\\Python\\chromedriver.exe\n",
    "driver = webdriver.Chrome(r\"C:\\Users\\gusta\\AppData\\Local\\Programs\\Python\\chromedriver.exe\")"
   ]
  },
  {
   "cell_type": "code",
   "execution_count": 16,
   "metadata": {},
   "outputs": [
    {
     "output_type": "stream",
     "name": "stdout",
     "text": [
      "😷 casoso no mundo: 145.165.125\n",
      "😁 curados no mundo: 123.470.649\n",
      "💀 mortes no mundo: 3.080.334\n",
      "\n",
      "----------------------------------\n",
      "\n",
      "😷 casos no Brasil: 14.122.795\n",
      "😁 curados no Brasil: 12.646.132\n",
      "💀 mortes no Brasil: 381.687\n",
      "\n",
      "----------------------------------\n",
      "\n",
      "😷 casos Estados Unidos: 32.652.041\n",
      "😁 curados Estados Unidos: 25.222.004\n",
      "💀 mortes Estados Unidos: 583.987\n",
      "\n",
      "----------------------------------\n",
      "\n"
     ]
    }
   ],
   "source": [
    "#url=\"https://www.coronatracker.com/pt-br/\"\n",
    "driver.get(\"https://www.coronatracker.com/pt-br/\")\n",
    "sleep (3)\n",
    "\n",
    "confirmados_mundo = driver.find_element_by_xpath ('//*[@id=\"__layout\"]/div/main/div/div[1]/div[1]/div[1]/div[2]/div[1]/div[1]/span').text\n",
    "print ('😷 casoso no mundo:',confirmados_mundo)\n",
    "sleep(1)\n",
    "curados_mundo = driver.find_element_by_xpath ('//*[@id=\"__layout\"]/div/main/div/div[1]/div[1]/div[1]/div[2]/div[2]/div[1]/span').text\n",
    "print ('😁 curados no mundo:',curados_mundo)\n",
    "sleep(1)\n",
    "mortes_mundo = driver.find_element_by_xpath ('//*[@id=\"__layout\"]/div/main/div/div[1]/div[1]/div[1]/div[2]/div[3]/div[1]/span').text\n",
    "print (\"💀 mortes no mundo:\",mortes_mundo)\n",
    "sleep(1)\n",
    "print(\"\\n----------------------------------\\n\")\n",
    "\n",
    "confirmados_brasil = driver.find_element_by_xpath('//*[@id=\"__layout\"]/div/main/div/div[2]/div[1]/div[1]/table/tbody/tr[3]/td[2]').text\n",
    "print(\"😷 casos no Brasil:\",confirmados_brasil)\n",
    "sleep(1)\n",
    "curados_brasil = driver.find_element_by_xpath('//*[@id=\"__layout\"]/div/main/div/div[2]/div[1]/div[1]/table/tbody/tr[3]/td[3]').text\n",
    "print(\"😁 curados no Brasil:\", curados_brasil)\n",
    "sleep(1)\n",
    "mortes_brasil = driver.find_element_by_xpath('//*[@id=\"__layout\"]/div/main/div/div[2]/div[1]/div[1]/table/tbody/tr[3]/td[4]').text\n",
    "print(\"💀 mortes no Brasil:\",mortes_brasil)\n",
    "sleep(1)\n",
    "print(\"\\n----------------------------------\\n\")\n",
    "\n",
    "casos_usa = driver.find_element_by_xpath('//*[@id=\"__layout\"]/div/main/div/div[2]/div[1]/div[1]/table/tbody/tr[1]/td[2]').text\n",
    "print(\"😷 casos Estados Unidos:\",casos_usa)\n",
    "sleep(1)\n",
    "curados_usa = driver.find_element_by_xpath('//*[@id=\"__layout\"]/div/main/div/div[2]/div[1]/div[1]/table/tbody/tr[1]/td[3]').text\n",
    "print(\"😁 curados Estados Unidos:\",curados_usa)\n",
    "sleep(1)\n",
    "mortes_usa = driver.find_element_by_xpath('//*[@id=\"__layout\"]/div/main/div/div[2]/div[1]/div[1]/table/tbody/tr[1]/td[4]').text\n",
    "print(\"💀 mortes Estados Unidos:\",mortes_usa)\n",
    "sleep(1)\n",
    "print(\"\\n----------------------------------\\n\")"
   ]
  }
 ]
}