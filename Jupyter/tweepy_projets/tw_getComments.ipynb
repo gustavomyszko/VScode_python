{
 "metadata": {
  "language_info": {
   "codemirror_mode": {
    "name": "ipython",
    "version": 3
   },
   "file_extension": ".py",
   "mimetype": "text/x-python",
   "name": "python",
   "nbconvert_exporter": "python",
   "pygments_lexer": "ipython3",
   "version": "3.8.9"
  },
  "orig_nbformat": 2,
  "kernelspec": {
   "name": "python389jvsc74a57bd0aa8e4de9f4426ab75fdef01f3d7947e2b3e9cfbdb80ba65115d4f20988c8517e",
   "display_name": "Python 3.8.9 64-bit"
  },
  "metadata": {
   "interpreter": {
    "hash": "32857276400c4cf0706a3054adcfd76a793ac8fa4e7f90fbb43b6a51ba7a8950"
   }
  }
 },
 "nbformat": 4,
 "nbformat_minor": 2,
 "cells": [
  {
   "cell_type": "code",
   "execution_count": 10,
   "metadata": {},
   "outputs": [
    {
     "output_type": "stream",
     "name": "stdout",
     "text": [
      "#tweepy-version:  3.10.0\n#pandas-version:  1.2.4\n#numpy-version:  1.20.2\n#json-version:  2.0.9\n#Authenticator:  <tweepy.auth.OAuthHandler object at 0x00000266B13EFAC0>\n"
     ]
    }
   ],
   "source": [
    "%run ./tw_keys.ipynb"
   ]
  },
  {
   "cell_type": "code",
   "execution_count": 11,
   "metadata": {},
   "outputs": [],
   "source": [
    "#for i in cursor:\n",
    "    #print (i)"
   ]
  },
  {
   "cell_type": "code",
   "execution_count": 12,
   "metadata": {},
   "outputs": [
    {
     "output_type": "stream",
     "name": "stdout",
     "text": [
      "['__add__', '__class__', '__contains__', '__delattr__', '__dir__', '__doc__', '__eq__', '__format__', '__ge__', '__getattribute__', '__getitem__', '__getnewargs__', '__gt__', '__hash__', '__init__', '__init_subclass__', '__iter__', '__le__', '__len__', '__lt__', '__mod__', '__mul__', '__ne__', '__new__', '__reduce__', '__reduce_ex__', '__repr__', '__rmod__', '__rmul__', '__setattr__', '__sizeof__', '__str__', '__subclasshook__', 'capitalize', 'casefold', 'center', 'count', 'encode', 'endswith', 'expandtabs', 'find', 'format', 'format_map', 'index', 'isalnum', 'isalpha', 'isascii', 'isdecimal', 'isdigit', 'isidentifier', 'islower', 'isnumeric', 'isprintable', 'isspace', 'istitle', 'isupper', 'join', 'ljust', 'lower', 'lstrip', 'maketrans', 'partition', 'replace', 'rfind', 'rindex', 'rjust', 'rpartition', 'rsplit', 'rstrip', 'split', 'splitlines', 'startswith', 'strip', 'swapcase', 'title', 'translate', 'upper', 'zfill']\n"
     ]
    }
   ],
   "source": [
    "cursor = tw.Cursor(api.user_timeline,id='@neymarjr',tweet_mode=\"extended\").items(1)\n",
    "for i in cursor:\n",
    "    print (dir(i.user.profile_link_color))"
   ]
  },
  {
   "cell_type": "code",
   "execution_count": 13,
   "metadata": {},
   "outputs": [
    {
     "output_type": "stream",
     "name": "stdout",
     "text": [
      "▶️ Tweet:  1 \n\n👽 @ NetflixBrasil\n👦🏻 netflixbrasil \n\n🔊 Text: \n @LarizAsHell https://t.co/yjmoIsbumr \n\n👀 Retweets:  0\n❤️ Favorites:  12\n\n------------------------\n\n▶️ Tweet:  2 \n\n👽 @ NetflixBrasil\n👦🏻 netflixbrasil \n\n🔊 Text: \n @KaDeckerstar E.X.A.U.S.T.A. \n\n👀 Retweets:  2\n❤️ Favorites:  22\n\n------------------------\n\n▶️ Tweet:  3 \n\n👽 @ NetflixBrasil\n👦🏻 netflixbrasil \n\n🔊 Text: \n @deadpool_vt é o link ali em cima... \n\n👀 Retweets:  1\n❤️ Favorites:  2\n\n------------------------\n\n▶️ Tweet:  4 \n\n👽 @ NetflixBrasil\n👦🏻 netflixbrasil \n\n🔊 Text: \n Um rolê de skate pode mudar pra sempre a vida de alguém.\n\nMeu novo filme Uma Skatista Radical estreia dia 11 de junho. 🛹 https://t.co/bAlXbOaPfV \n\n👀 Retweets:  64\n❤️ Favorites:  1678\n\n------------------------\n\n▶️ Tweet:  5 \n\n👽 @ NetflixBrasil\n👦🏻 netflixbrasil \n\n🔊 Text: \n @3kytok4n 🤡 \n\n👀 Retweets:  0\n❤️ Favorites:  7\n\n------------------------\n\n▶️ Tweet:  6 \n\n👽 @ NetflixBrasil\n👦🏻 netflixbrasil \n\n🔊 Text: \n @juanriby @ZackSnyder Sempre tem um pra acabar com a diversão dos outros, né? https://t.co/1GfFVTrmBg \n\n👀 Retweets:  0\n❤️ Favorites:  12\n\n------------------------\n\n▶️ Tweet:  7 \n\n👽 @ NetflixBrasil\n👦🏻 netflixbrasil \n\n🔊 Text: \n @LarizAsHell É pra ver se o pessoal das notificações está atento... 👀 \n\n👀 Retweets:  0\n❤️ Favorites:  31\n\n------------------------\n\n▶️ Tweet:  8 \n\n👽 @ NetflixBrasil\n👦🏻 netflixbrasil \n\n🔊 Text: \n @Kay_doliver Ele dirigiu, escreveu, produziu... e desconfio que tenha feito uma ponta como zumbi... \n\n👀 Retweets:  1\n❤️ Favorites:  40\n\n------------------------\n\n▶️ Tweet:  9 \n\n👽 @ NetflixBrasil\n👦🏻 netflixbrasil \n\n🔊 Text: \n E se eu te dissesse que eu liberei os primeiros 15 minutos do filme #ArmyOfTheDead ?\n\nNão deixa o Zack Snyder descobrir.\n\nTá aqui: https://t.co/ARY8tGmlQo https://t.co/IbqIfl1eQf \n\n👀 Retweets:  75\n❤️ Favorites:  1170\n\n------------------------\n\n▶️ Tweet:  10 \n\n👽 @ NetflixBrasil\n👦🏻 netflixbrasil \n\n🔊 Text: \n @detailswolfie Já coloca no topo da lista! \n\n👀 Retweets:  0\n❤️ Favorites:  1\n\n------------------------\n\n▶️ Tweet:  11 \n\n👽 @ NetflixBrasil\n👦🏻 netflixbrasil \n\n🔊 Text: \n @strgefairy https://t.co/wBmipSnqxE \n\n👀 Retweets:  0\n❤️ Favorites:  15\n\n------------------------\n\n▶️ Tweet:  12 \n\n👽 @ NetflixBrasil\n👦🏻 netflixbrasil \n\n🔊 Text: \n @lanadelhondo https://t.co/PtrQAiVBQo \n\n👀 Retweets:  0\n❤️ Favorites:  6\n\n------------------------\n\n▶️ Tweet:  13 \n\n👽 @ NetflixBrasil\n👦🏻 netflixbrasil \n\n🔊 Text: \n @danirompa ¯\\_(ツ)_/¯ \n\n👀 Retweets:  0\n❤️ Favorites:  4\n\n------------------------\n\n▶️ Tweet:  14 \n\n👽 @ NetflixBrasil\n👦🏻 netflixbrasil \n\n🔊 Text: \n Hoje eu tô muito vampira. A última temporada de Castlevania já está disponível 🏰 https://t.co/tudJVPH6ST \n\n👀 Retweets:  226\n❤️ Favorites:  3981\n\n------------------------\n\n▶️ Tweet:  15 \n\n👽 @ NetflixBrasil\n👦🏻 netflixbrasil \n\n🔊 Text: \n @EM0KEITH Pra ser justa, quando ela não está esplêndida? \n\n👀 Retweets:  0\n❤️ Favorites:  7\n\n------------------------\n\n▶️ Tweet:  16 \n\n👽 @ NetflixBrasil\n👦🏻 netflixbrasil \n\n🔊 Text: \n @postshawnmendes The Crown? \n\n👀 Retweets:  0\n❤️ Favorites:  225\n\n------------------------\n\n▶️ Tweet:  17 \n\n👽 @ NetflixBrasil\n👦🏻 netflixbrasil \n\n🔊 Text: \n @StarRey_ Anotando aqui. Vocês querem que ele volte... vou avisar a Millie \n\n👀 Retweets:  13\n❤️ Favorites:  882\n\n------------------------\n\n▶️ Tweet:  18 \n\n👽 @ NetflixBrasil\n👦🏻 netflixbrasil \n\n🔊 Text: \n @badmrtina Ela é mais que da família, a gente se entende só pelo olhar, sabe? \n\n👀 Retweets:  0\n❤️ Favorites:  170\n\n------------------------\n\n▶️ Tweet:  19 \n\n👽 @ NetflixBrasil\n👦🏻 netflixbrasil \n\n🔊 Text: \n @NicholasNoen Uma informação de cada vez... \n\n👀 Retweets:  2\n❤️ Favorites:  399\n\n------------------------\n\n▶️ Tweet:  20 \n\n👽 @ NetflixBrasil\n👦🏻 netflixbrasil \n\n🔊 Text: \n @lovexstinson É uma triste verdade, mas você precisava saber... \n\n👀 Retweets:  0\n❤️ Favorites:  268\n\n------------------------\n\n"
     ]
    }
   ],
   "source": [
    "username = input('Enter with @username for search: ')\n",
    "cursor = tw.Cursor(api.user_timeline, id=username,tweet_mode=\"extended\").items(20)\n",
    "c=0\n",
    "for i in cursor:\n",
    "    c = c+1\n",
    "    print((\"▶️ Tweet: \"),(c),(\"\\n\"))\n",
    "    print((\"👽 @\"),(i.user.screen_name))\n",
    "    print((\"👦🏻\"),(i.user.name),(\"\\n\"))\n",
    "    print((\"🔊 Text: \\n\"),(i.full_text),(\"\\n\"))\n",
    "    print((\"👀 Retweets: \"),(i.retweet_count))\n",
    "    print((\"❤️ Favorites: \"),(i.favorite_count))\n",
    "    print(\"\\n------------------------\\n\")"
   ]
  },
  {
   "cell_type": "code",
   "execution_count": null,
   "metadata": {},
   "outputs": [],
   "source": []
  }
 ]
}