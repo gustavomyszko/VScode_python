{
 "metadata": {
  "language_info": {
   "codemirror_mode": {
    "name": "ipython",
    "version": 3
   },
   "file_extension": ".py",
   "mimetype": "text/x-python",
   "name": "python",
   "nbconvert_exporter": "python",
   "pygments_lexer": "ipython3",
   "version": "3.9.2"
  },
  "orig_nbformat": 2,
  "kernelspec": {
   "name": "python392jvsc74a57bd032857276400c4cf0706a3054adcfd76a793ac8fa4e7f90fbb43b6a51ba7a8950",
   "display_name": "Python 3.9.2 64-bit"
  }
 },
 "nbformat": 4,
 "nbformat_minor": 2,
 "cells": [
  {
   "cell_type": "code",
   "execution_count": 30,
   "metadata": {},
   "outputs": [
    {
     "output_type": "stream",
     "name": "stdout",
     "text": [
      "#tweepy-version:  3.10.0\n#pandas-version:  1.2.4\n#numpy-version:  1.20.2\n#json-version:  2.0.9\n#Authenticator:  <tweepy.auth.OAuthHandler object at 0x00000174941D3430>\n"
     ]
    }
   ],
   "source": [
    "%run ./tw_keys.ipynb"
   ]
  },
  {
   "cell_type": "code",
   "execution_count": 31,
   "metadata": {},
   "outputs": [
    {
     "output_type": "stream",
     "name": "stdout",
     "text": [
      "['__class__', '__delattr__', '__dict__', '__dir__', '__doc__', '__eq__', '__format__', '__ge__', '__getattribute__', '__getstate__', '__gt__', '__hash__', '__init__', '__init_subclass__', '__le__', '__lt__', '__module__', '__ne__', '__new__', '__reduce__', '__reduce_ex__', '__repr__', '__setattr__', '__sizeof__', '__str__', '__subclasshook__', '__weakref__', '_api', '_json', 'author', 'contributors', 'coordinates', 'created_at', 'destroy', 'display_text_range', 'entities', 'extended_entities', 'favorite', 'favorite_count', 'favorited', 'full_text', 'geo', 'id', 'id_str', 'in_reply_to_screen_name', 'in_reply_to_status_id', 'in_reply_to_status_id_str', 'in_reply_to_user_id', 'in_reply_to_user_id_str', 'is_quote_status', 'lang', 'parse', 'parse_list', 'place', 'possibly_sensitive', 'retweet', 'retweet_count', 'retweeted', 'retweets', 'source', 'source_url', 'truncated', 'user']\n"
     ]
    }
   ],
   "source": [
    "cursor = tw.Cursor(api.user_timeline,id='@neymarjr',tweet_mode=\"extended\").items(1)\n",
    "for i in cursor:\n",
    "    print (dir(i))"
   ]
  },
  {
   "cell_type": "code",
   "execution_count": 120,
   "metadata": {},
   "outputs": [
    {
     "output_type": "stream",
     "name": "stdout",
     "text": [
      "{\"0\":{\"0\":1,\"1\":1425639256000,\"2\":\"@GMyszko\",\"3\":\"Gustavo Myszko\",\"4\":\"@10Ronaldinho @Ludmilla dibra memo, deixa ate o psor em choque\",\"5\":0,\"6\":0}}\n{\"0\":{\"0\":2,\"1\":1407902295000,\"2\":\"@GMyszko\",\"3\":\"Gustavo Myszko\",\"4\":\"@andreiscwb muitoooo bom cara... que gostoso nessa chuva D:\",\"5\":0,\"6\":0}}\n{\"0\":{\"0\":3,\"1\":1407902006000,\"2\":\"@GMyszko\",\"3\":\"Gustavo Myszko\",\"4\":\"@andreiscwb dog de barraca merrmao o\\/\",\"5\":1,\"6\":0}}\n{\"0\":{\"0\":4,\"1\":1395024538000,\"2\":\"@GMyszko\",\"3\":\"Gustavo Myszko\",\"4\":\";-;\",\"5\":0,\"6\":0}}\n"
     ]
    }
   ],
   "source": [
    "username = input('Enter with @username for search: ')\n",
    "cursor = tw.Cursor(api.user_timeline, id=username,tweet_mode=\"extended\").items(20)\n",
    "\n",
    "c=0\n",
    "for i in cursor:\n",
    "    c = c+1\n",
    "    a = c, i.created_at, username, i.user.name, i.full_text, i.retweet_count, i.favorite_count\n",
    "    df = pd.DataFrame(a)\n",
    "    data = df.to_json()\n",
    "\n",
    "    print(data)"
   ]
  },
  {
   "cell_type": "code",
   "execution_count": null,
   "metadata": {},
   "outputs": [],
   "source": []
  }
 ]
}