{
 "metadata": {
  "language_info": {
   "codemirror_mode": {
    "name": "ipython",
    "version": 3
   },
   "file_extension": ".py",
   "mimetype": "text/x-python",
   "name": "python",
   "nbconvert_exporter": "python",
   "pygments_lexer": "ipython3",
   "version": "3.9.2"
  },
  "orig_nbformat": 2,
  "kernelspec": {
   "name": "python392jvsc74a57bd032857276400c4cf0706a3054adcfd76a793ac8fa4e7f90fbb43b6a51ba7a8950",
   "display_name": "Python 3.9.2 64-bit"
  },
  "metadata": {
   "interpreter": {
    "hash": "32857276400c4cf0706a3054adcfd76a793ac8fa4e7f90fbb43b6a51ba7a8950"
   }
  }
 },
 "nbformat": 4,
 "nbformat_minor": 2,
 "cells": [
  {
   "cell_type": "code",
   "execution_count": 2,
   "metadata": {},
   "outputs": [
    {
     "output_type": "stream",
     "name": "stdout",
     "text": [
      "#tweepy-version:  3.10.0\n#pandas-version:  1.2.4\n#Authenticator:  <tweepy.auth.OAuthHandler object at 0x000002902EF18BE0>\n"
     ]
    }
   ],
   "source": [
    "%run ./tw_keys.ipynb"
   ]
  },
  {
   "cell_type": "code",
   "execution_count": 3,
   "metadata": {},
   "outputs": [
    {
     "output_type": "stream",
     "name": "stdout",
     "text": [
      "----------------------------------------------\n",
      "User: neymarjr\n",
      "----------------------------------------------\n",
      "followers: 53289612\n",
      "----------------------------------------------\n",
      "Friends: 643\n",
      "----------------------------------------------\n",
      "Friends Base:\n",
      "LParedss 234\n",
      "WFLWorldRun 1703\n",
      "jukagod 266\n",
      "FortniteGame 99\n",
      "rafakalimann_ 3570\n",
      "richarlison97 254\n",
      "rafauccman 110\n",
      "gessicakayane 271\n",
      "kevinho 108\n",
      "WesleySafadao 535\n",
      "maisa 9217\n",
      "luisasonza 946\n",
      "emimernes_ 378\n",
      "felipeprior 999\n",
      "MariliaMReal 568\n",
      "orenatoalbani 259\n",
      "jojotodynhoofc 532\n",
      "rafaelportugal 826\n",
      "IbaiLlanos 754\n",
      "Superdry 1661\n",
      "----------------------------------------------\n"
     ]
    }
   ],
   "source": [
    "user = api.get_user('@neymarjr')\n",
    "print(\"----------------------------------------------\")\n",
    "print(\"User:\", user.screen_name)\n",
    "print(\"----------------------------------------------\")\n",
    "print(\"followers:\", user.followers_count)\n",
    "print(\"----------------------------------------------\")\n",
    "print (\"Friends:\", user.friends_count)\n",
    "print(\"----------------------------------------------\")\n",
    "print(\"Friends Base:\")\n",
    "for friend in user.friends():\n",
    "   print(friend.screen_name, friend.friends_count)\n",
    "print(\"----------------------------------------------\")"
   ]
  },
  {
   "cell_type": "code",
   "execution_count": null,
   "metadata": {},
   "outputs": [],
   "source": []
  }
 ]
}