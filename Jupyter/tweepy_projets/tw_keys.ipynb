{
 "metadata": {
  "language_info": {
   "codemirror_mode": {
    "name": "ipython",
    "version": 3
   },
   "file_extension": ".py",
   "mimetype": "text/x-python",
   "name": "python",
   "nbconvert_exporter": "python",
   "pygments_lexer": "ipython3",
   "version": "3.9.2"
  },
  "orig_nbformat": 2,
  "kernelspec": {
   "name": "python392jvsc74a57bd032857276400c4cf0706a3054adcfd76a793ac8fa4e7f90fbb43b6a51ba7a8950",
   "display_name": "Python 3.9.2 64-bit"
  },
  "metadata": {
   "interpreter": {
    "hash": "32857276400c4cf0706a3054adcfd76a793ac8fa4e7f90fbb43b6a51ba7a8950"
   }
  }
 },
 "nbformat": 4,
 "nbformat_minor": 2,
 "cells": [
  {
   "cell_type": "code",
   "execution_count": 8,
   "metadata": {},
   "outputs": [
    {
     "output_type": "stream",
     "name": "stdout",
     "text": [
      "#tweepy-version:  3.10.0\n#pandas-version:  1.2.4\n"
     ]
    }
   ],
   "source": [
    "import tweepy as tw \n",
    "import pandas as pd \n",
    "\n",
    "print((\"#tweepy-version: \"),(tw.__version__))\n",
    "print((\"#pandas-version: \"),(pd.__version__))"
   ]
  },
  {
   "cell_type": "code",
   "execution_count": 10,
   "metadata": {},
   "outputs": [
    {
     "output_type": "stream",
     "name": "stdout",
     "text": [
      "Authenticator:  <tweepy.auth.OAuthHandler object at 0x00000226E772E700>\n"
     ]
    }
   ],
   "source": [
    "# Bearer Token AAAAAAAAAAAAAAAAAAAAAMKMOgEAAAAAmhrbVZOEobB3mBB9Xat10o8NfBQ%3Dhzwna0sG7krOf214HMjZuNnBiUS7FEgwWR0uI8eC6dF57CY4uf\n",
    "\n",
    "auth = tw.OAuthHandler(\"5lx6pCIoLyf775KNkTwI5P7f0\", \"25e5lP5Ryii2PBXKdoOtelPCH9yVmzuauMoHD6FvImFKABCPCf\")\n",
    "auth.set_access_token(\"2414441038-3haleuWZ4HtBmVKF8jDrIvDIOJ5DJqFsfZzD4OQ\", \"9QOMxT1di3zznxoAHcjr7rfcEkAgr4yOTHnGQ1luFfWd4\")\n",
    "\n",
    "api = tw.API(auth)\n",
    "print((\"#Authenticator: \"),(auth))"
   ]
  },
  {
   "cell_type": "code",
   "execution_count": null,
   "metadata": {},
   "outputs": [],
   "source": []
  }
 ]
}