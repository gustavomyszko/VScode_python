{
 "metadata": {
  "language_info": {
   "codemirror_mode": {
    "name": "ipython",
    "version": 3
   },
   "file_extension": ".py",
   "mimetype": "text/x-python",
   "name": "python",
   "nbconvert_exporter": "python",
   "pygments_lexer": "ipython3",
   "version": "3.9.2"
  },
  "orig_nbformat": 2,
  "kernelspec": {
   "name": "python392jvsc74a57bd032857276400c4cf0706a3054adcfd76a793ac8fa4e7f90fbb43b6a51ba7a8950",
   "display_name": "Python 3.9.2 64-bit"
  },
  "metadata": {
   "interpreter": {
    "hash": "32857276400c4cf0706a3054adcfd76a793ac8fa4e7f90fbb43b6a51ba7a8950"
   }
  }
 },
 "nbformat": 4,
 "nbformat_minor": 2,
 "cells": [
  {
   "cell_type": "code",
   "execution_count": 2,
   "metadata": {},
   "outputs": [
    {
     "output_type": "stream",
     "name": "stdout",
     "text": [
      "#tweepy-version:  3.10.0\n#pandas-version:  1.2.4\n#Authenticator:  <tweepy.auth.OAuthHandler object at 0x00000291F473C6A0>\n"
     ]
    }
   ],
   "source": [
    "%run ./tw_keys.ipynb"
   ]
  },
  {
   "cell_type": "code",
   "execution_count": 4,
   "metadata": {},
   "outputs": [
    {
     "output_type": "stream",
     "name": "stdout",
     "text": [
      "['__add__', '__class__', '__contains__', '__delattr__', '__dir__', '__doc__', '__eq__', '__format__', '__ge__', '__getattribute__', '__getitem__', '__getnewargs__', '__gt__', '__hash__', '__init__', '__init_subclass__', '__iter__', '__le__', '__len__', '__lt__', '__mod__', '__mul__', '__ne__', '__new__', '__reduce__', '__reduce_ex__', '__repr__', '__rmod__', '__rmul__', '__setattr__', '__sizeof__', '__str__', '__subclasshook__', 'capitalize', 'casefold', 'center', 'count', 'encode', 'endswith', 'expandtabs', 'find', 'format', 'format_map', 'index', 'isalnum', 'isalpha', 'isascii', 'isdecimal', 'isdigit', 'isidentifier', 'islower', 'isnumeric', 'isprintable', 'isspace', 'istitle', 'isupper', 'join', 'ljust', 'lower', 'lstrip', 'maketrans', 'partition', 'removeprefix', 'removesuffix', 'replace', 'rfind', 'rindex', 'rjust', 'rpartition', 'rsplit', 'rstrip', 'split', 'splitlines', 'startswith', 'strip', 'swapcase', 'title', 'translate', 'upper', 'zfill']\n\n\n<tweepy.cursor.ItemIterator object at 0x000002C610C54550>\n"
     ]
    }
   ],
   "source": [
    "cursor = tw.Cursor(api.user_timeline,id='@neymarjr',tweet_mode=\"extended\").items(1)\n",
    "for i in cursor:\n",
    "    print (dir(i.user.profile_link_color))\n",
    "    print (\"\\n\")\n",
    "    print(cursor)"
   ]
  },
  {
   "cell_type": "code",
   "execution_count": 5,
   "metadata": {},
   "outputs": [
    {
     "output_type": "stream",
     "name": "stdout",
     "text": [
      "▶️ Tweet:  1\n️⌚ Data:  2021-04-18 19:58:06 \n\n👽 @neymarjr\n👦🏻 Neymar Jr \n\n🔊 Text: \n ALLEZ PSG ❤️💙 https://t.co/xP2SGp2Pf4 \n\n👀 Retweets:  6687\n❤️ Favorites:  126145\n\n------------------------\n\n▶️ Tweet:  2\n️⌚ Data:  2021-04-15 10:23:24 \n\n👽 @neymarjr\n👦🏻 Neymar Jr \n\n🔊 Text: \n ONLY SEE GREAT 👀 @PUMA https://t.co/BWxeM6Y7UD \n\n👀 Retweets:  1217\n❤️ Favorites:  39771\n\n------------------------\n\n▶️ Tweet:  3\n️⌚ Data:  2021-04-14 14:42:38 \n\n👽 @neymarjr\n👦🏻 Neymar Jr \n\n🔊 Text: \n Estou animado por estar fazendo parte do https://t.co/IzHYTclXUk como Embaixador Cultural. Visite PSxNJR para ver como o poker está se conectando com a cultura, e fique ligado para saber mais.\nhttps://t.co/qxkFR7WO1A\n#ImIn #PSxNJR #neyday https://t.co/LdpEPzcKSP \n\n👀 Retweets:  587\n❤️ Favorites:  18657\n\n------------------------\n\n▶️ Tweet:  4\n️⌚ Data:  2021-04-13 22:53:02 \n\n👽 @neymarjr\n👦🏻 Neymar Jr \n\n🔊 Text: \n ICI C’EST PARIS MON AMI @LParedss https://t.co/aBIVnFtM7d \n\n👀 Retweets:  31511\n❤️ Favorites:  241793\n\n------------------------\n\n▶️ Tweet:  5\n️⌚ Data:  2021-04-13 21:22:41 \n\n👽 @neymarjr\n👦🏻 Neymar Jr \n\n🔊 Text: \n Eu começo e vocês continuam ..... \n“Parapapapapapapapapa\nPaparapaparapaparaclackbum ...” \n\n👀 Retweets:  26412\n❤️ Favorites:  255999\n\n------------------------\n\n▶️ Tweet:  6\n️⌚ Data:  2021-04-13 17:21:46 \n\n👽 @neymarjr\n👦🏻 Neymar Jr \n\n🔊 Text: \n Que Deus nos abençoe e nos proteja 🙏🏽❤️⚽️ #UCL https://t.co/6foZVUg5gn \n\n👀 Retweets:  14799\n❤️ Favorites:  140112\n\n------------------------\n\n▶️ Tweet:  7\n️⌚ Data:  2021-04-13 17:18:36 \n\n👽 @neymarjr\n👦🏻 Neymar Jr \n\n🔊 Text: \n Que Deus nos abençoe e nos proteja 🙏🏽❤️⚽️ \n\n👀 Retweets:  25790\n❤️ Favorites:  304102\n\n------------------------\n\n▶️ Tweet:  8\n️⌚ Data:  2021-04-13 12:46:34 \n\n👽 @neymarjr\n👦🏻 Neymar Jr \n\n🔊 Text: \n Hj tem 😜🤫 \n\n👀 Retweets:  39203\n❤️ Favorites:  284669\n\n------------------------\n\n▶️ Tweet:  9\n️⌚ Data:  2021-04-11 16:44:07 \n\n👽 @neymarjr\n👦🏻 Neymar Jr \n\n🔊 Text: \n @eulaliaa94 Pior que já pegou um 🤣🤣🤣🤣 \n\n👀 Retweets:  2052\n❤️ Favorites:  24943\n\n------------------------\n\n▶️ Tweet:  10\n️⌚ Data:  2021-04-11 16:26:20 \n\n👽 @neymarjr\n👦🏻 Neymar Jr \n\n🔊 Text: \n Inscrições de curso de pênaltis estão abertas ... acesse o site https://t.co/k1zjBwwai8 e adquira já a sua vaga 🤣🤣🤣🤣 #brincadeira #tozoando #JOGAO \n\n👀 Retweets:  15481\n❤️ Favorites:  126531\n\n------------------------\n\n▶️ Tweet:  11\n️⌚ Data:  2021-04-10 14:06:00 \n\n👽 @neymarjr\n👦🏻 Neymar Jr \n\n🔊 Text: \n PICK DUST2 😜 https://t.co/AAffb3krKb \n\n👀 Retweets:  996\n❤️ Favorites:  33479\n\n------------------------\n\n▶️ Tweet:  12\n️⌚ Data:  2021-04-09 18:41:09 \n\n👽 @neymarjr\n👦🏻 Neymar Jr \n\n🔊 Text: \n @orenatoalbani 🤣🤣🤣🤣 \n\n👀 Retweets:  13\n❤️ Favorites:  1172\n\n------------------------\n\n▶️ Tweet:  13\n️⌚ Data:  2021-04-07 22:51:13 \n\n👽 @neymarjr\n👦🏻 Neymar Jr \n\n🔊 Text: \n Lutar até o fim ... ❤️💙 https://t.co/xelMc9AcDz \n\n👀 Retweets:  22528\n❤️ Favorites:  307256\n\n------------------------\n\n▶️ Tweet:  14\n️⌚ Data:  2021-04-07 17:48:45 \n\n👽 @neymarjr\n👦🏻 Neymar Jr \n\n🔊 Text: \n Que Deus nos abençoe e nos proteja 🙏🏽❤️⚽️ https://t.co/OXQjOPiaQ6 \n\n👀 Retweets:  23607\n❤️ Favorites:  215992\n\n------------------------\n\n▶️ Tweet:  15\n️⌚ Data:  2021-04-07 11:04:03 \n\n👽 @neymarjr\n👦🏻 Neymar Jr \n\n🔊 Text: \n 🔥 https://t.co/dJh0CbzCUa \n\n👀 Retweets:  43221\n❤️ Favorites:  362722\n\n------------------------\n\n▶️ Tweet:  16\n️⌚ Data:  2021-04-05 15:06:22 \n\n👽 @neymarjr\n👦🏻 Neymar Jr \n\n🔊 Text: \n RT @agencianrsports: 🆕 Tem bastidor novo\n🎬 https://t.co/dy7u1FsNte\n🔔 Inscreva-se!\n\nNeymar Jr e @pokerstars se encontraram em 2020 para uma… \n\n👀 Retweets:  330\n❤️ Favorites:  0\n\n------------------------\n\n▶️ Tweet:  17\n️⌚ Data:  2021-04-02 07:16:57 \n\n👽 @neymarjr\n👦🏻 Neymar Jr \n\n🔊 Text: \n In the mood for Great ✨\n@pumafootball https://t.co/3b90vXPMd9 \n\n👀 Retweets:  4460\n❤️ Favorites:  124943\n\n------------------------\n\n▶️ Tweet:  18\n️⌚ Data:  2021-04-01 11:12:58 \n\n👽 @neymarjr\n👦🏻 Neymar Jr \n\n🔊 Text: \n 1° de abril 🤟🏽 https://t.co/U4ePzZgx5N \n\n👀 Retweets:  5051\n❤️ Favorites:  110454\n\n------------------------\n\n▶️ Tweet:  19\n️⌚ Data:  2021-04-01 08:07:48 \n\n👽 @neymarjr\n👦🏻 Neymar Jr \n\n🔊 Text: \n Depois de muita pressão dela, tenho que assumir ... entrei pro time dos casados.\n me apaixonei, O PAI TA OFF! \n\n👀 Retweets:  10755\n❤️ Favorites:  252536\n\n------------------------\n\n▶️ Tweet:  20\n️⌚ Data:  2021-03-31 15:19:46 \n\n👽 @neymarjr\n👦🏻 Neymar Jr \n\n🔊 Text: \n 👉🏾 https://t.co/qcCjbiJ6ZF\n@WFLWorldRun https://t.co/IvqjpgQAwq \n\n👀 Retweets:  432\n❤️ Favorites:  13058\n\n------------------------\n\n"
     ]
    }
   ],
   "source": [
    "username = input('Enter with @username for search: ')\n",
    "cursor = tw.Cursor(api.user_timeline, id=username,tweet_mode=\"extended\").items(20)\n",
    "c=0\n",
    "for i in cursor:\n",
    "    c = c+1\n",
    "    print((\"▶️ Tweet: \"),(c))\n",
    "    print((\"️⌚ Data: \"),(i.created_at),(\"\\n\"))\n",
    "    print((\"👽\"),(username))\n",
    "    print((\"👦🏻\"),(i.user.name),(\"\\n\"))\n",
    "    print((\"🔊 Text: \\n\"),(i.full_text),(\"\\n\"))\n",
    "    print((\"👀 Retweets: \"),(i.retweet_count))\n",
    "    print((\"❤️ Favorites: \"),(i.favorite_count))\n",
    "    print(\"\\n------------------------\\n\") "
   ]
  },
  {
   "cell_type": "code",
   "execution_count": null,
   "metadata": {},
   "outputs": [],
   "source": []
  }
 ]
}