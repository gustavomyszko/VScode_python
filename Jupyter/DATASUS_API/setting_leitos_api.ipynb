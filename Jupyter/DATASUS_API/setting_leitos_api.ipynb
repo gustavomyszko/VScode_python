{
 "metadata": {
  "language_info": {
   "codemirror_mode": {
    "name": "ipython",
    "version": 3
   },
   "file_extension": ".py",
   "mimetype": "text/x-python",
   "name": "python",
   "nbconvert_exporter": "python",
   "pygments_lexer": "ipython3",
   "version": "3.8.9"
  },
  "orig_nbformat": 2,
  "kernelspec": {
   "name": "python389jvsc74a57bd0aa8e4de9f4426ab75fdef01f3d7947e2b3e9cfbdb80ba65115d4f20988c8517e",
   "display_name": "Python 3.8.9 64-bit"
  }
 },
 "nbformat": 4,
 "nbformat_minor": 2,
 "cells": [
  {
   "cell_type": "code",
   "execution_count": 93,
   "metadata": {},
   "outputs": [],
   "source": [
    "import requests\n",
    "from requests.auth import HTTPBasicAuth\n",
    "import json\n",
    "import pandas as pd"
   ]
  },
  {
   "cell_type": "code",
   "execution_count": 94,
   "metadata": {},
   "outputs": [],
   "source": [
    "url = 'https://elastic-leitos.saude.gov.br/leito_ocupacao/_search'\n"
   ]
  },
  {
   "cell_type": "code",
   "execution_count": 95,
   "metadata": {},
   "outputs": [],
   "source": [
    "r = requests.get(url, auth=HTTPBasicAuth('user-api-leitos','aQbLL3ZStaTr38tj'))"
   ]
  },
  {
   "cell_type": "code",
   "execution_count": 96,
   "metadata": {},
   "outputs": [
    {
     "output_type": "execute_result",
     "data": {
      "text/plain": [
       "           _index _type              _id  _score      _source.estado  \\\n",
       "0  leito_ocupacao  _doc          2712016     1.0          Pernambuco   \n",
       "1  leito_ocupacao  _doc          0116335     1.0                Pará   \n",
       "2  leito_ocupacao  _doc            12769     1.0      Rio de Janeiro   \n",
       "3  leito_ocupacao  _doc          9614990     1.0              Paraná   \n",
       "4  leito_ocupacao  _doc             9768     1.0  Mato Grosso do Sul   \n",
       "5  leito_ocupacao  _doc          2509636     1.0               Bahia   \n",
       "6  leito_ocupacao  _doc          2687011     1.0              Paraná   \n",
       "7  leito_ocupacao  _doc         2711451      1.0          Pernambuco   \n",
       "8  leito_ocupacao  _doc  708203113539445     1.0      Santa Catarina   \n",
       "9  leito_ocupacao  _doc          2356449     1.0          Pernambuco   \n",
       "\n",
       "  _source.estadoSigla          _source.municipio     _source.cnes  \\\n",
       "0                  PE                   Sertânia          2712016   \n",
       "1                  PA                     Marabá          0116335   \n",
       "2                  rj                    Niterói            12769   \n",
       "3                  pr    Marechal Cândido Rondon          9614990   \n",
       "4                  ms               Campo Grande             9768   \n",
       "5                  BA              Rio de Contas          2509636   \n",
       "6                  PR                    Arapoti          2687011   \n",
       "7                  pe  Santa Cruz da Baixa Verde         2711451    \n",
       "8                  sc              Florianópolis  708203113539445   \n",
       "9                  PE                  Primavera          2356449   \n",
       "\n",
       "                       _source.nomeCnes _source.dataNotificacaoOcupacao  ...  \\\n",
       "0  HOSPITAL MARIA ALICE GOMES LAFAYETTE        2020-11-27T03:00:19.869Z  ...   \n",
       "1  HOSPITAL DE CAMPANHA COVID 19 MARABA        2020-11-26T03:00:19.985Z  ...   \n",
       "2                                   NaN        2020-10-18T03:00:09.902Z  ...   \n",
       "3                                   NaN        2020-08-10T03:00:34.126Z  ...   \n",
       "4                                   NaN        2020-08-06T09:09:00.000Z  ...   \n",
       "5             HOSPITAL DE RIO DE CONTAS        2020-08-10T03:00:27.587Z  ...   \n",
       "6     HOSPITAL MUNICIPAL 18 DE DEZEMBRO        2020-08-05T03:00:00.000Z  ...   \n",
       "7                                   NaN        2020-08-07T03:00:21.909Z  ...   \n",
       "8                                   NaN        2020-08-09T03:00:20.896Z  ...   \n",
       "9        PRONTO ATENDIMENTO MENINO DEUS        2020-08-06T03:00:19.867Z  ...   \n",
       "\n",
       "   _source.ofertaSRAGCli  _source.ofertaSRAGUti  _source.ocupHospCli  \\\n",
       "0                   18.0                    0.0                    6   \n",
       "1                   89.0                   31.0                    0   \n",
       "2                    NaN                    NaN                   19   \n",
       "3                    NaN                    NaN                    3   \n",
       "4                    NaN                    NaN                    0   \n",
       "5                    0.0                    0.0                    2   \n",
       "6                    0.0                    0.0                    1   \n",
       "7                    NaN                    NaN                    8   \n",
       "8                    NaN                    NaN                   59   \n",
       "9                    4.0                    0.0                    0   \n",
       "\n",
       "   _source.ocupHospUti  _source.ocupSRAGCli  _source.ocupSRAGUti  \\\n",
       "0                    0                    4                    0   \n",
       "1                    0                    3                    0   \n",
       "2                    0                    1                    7   \n",
       "3                    0                    4                    0   \n",
       "4                    0                    0                    0   \n",
       "5                    0                    0                    0   \n",
       "6                    0                    0                    0   \n",
       "7                    0                    5                    0   \n",
       "8                   22                    8                   10   \n",
       "9                    0                    3                    0   \n",
       "\n",
       "   _source.altas  _source.obitos  _source.ocupacaoInformada  \\\n",
       "0              0               0                       True   \n",
       "1              0               0                       True   \n",
       "2              0               0                       True   \n",
       "3              2               0                       True   \n",
       "4              0               0                       True   \n",
       "5              0               0                       True   \n",
       "6              0               0                       True   \n",
       "7              0               0                       True   \n",
       "8              1               0                       True   \n",
       "9              3               0                       True   \n",
       "\n",
       "   _source.algumaOcupacaoInformada  \n",
       "0                             True  \n",
       "1                             True  \n",
       "2                             True  \n",
       "3                             True  \n",
       "4                             True  \n",
       "5                             True  \n",
       "6                             True  \n",
       "7                             True  \n",
       "8                             True  \n",
       "9                             True  \n",
       "\n",
       "[10 rows x 23 columns]"
      ],
      "text/html": "<div>\n<style scoped>\n    .dataframe tbody tr th:only-of-type {\n        vertical-align: middle;\n    }\n\n    .dataframe tbody tr th {\n        vertical-align: top;\n    }\n\n    .dataframe thead th {\n        text-align: right;\n    }\n</style>\n<table border=\"1\" class=\"dataframe\">\n  <thead>\n    <tr style=\"text-align: right;\">\n      <th></th>\n      <th>_index</th>\n      <th>_type</th>\n      <th>_id</th>\n      <th>_score</th>\n      <th>_source.estado</th>\n      <th>_source.estadoSigla</th>\n      <th>_source.municipio</th>\n      <th>_source.cnes</th>\n      <th>_source.nomeCnes</th>\n      <th>_source.dataNotificacaoOcupacao</th>\n      <th>...</th>\n      <th>_source.ofertaSRAGCli</th>\n      <th>_source.ofertaSRAGUti</th>\n      <th>_source.ocupHospCli</th>\n      <th>_source.ocupHospUti</th>\n      <th>_source.ocupSRAGCli</th>\n      <th>_source.ocupSRAGUti</th>\n      <th>_source.altas</th>\n      <th>_source.obitos</th>\n      <th>_source.ocupacaoInformada</th>\n      <th>_source.algumaOcupacaoInformada</th>\n    </tr>\n  </thead>\n  <tbody>\n    <tr>\n      <th>0</th>\n      <td>leito_ocupacao</td>\n      <td>_doc</td>\n      <td>2712016</td>\n      <td>1.0</td>\n      <td>Pernambuco</td>\n      <td>PE</td>\n      <td>Sertânia</td>\n      <td>2712016</td>\n      <td>HOSPITAL MARIA ALICE GOMES LAFAYETTE</td>\n      <td>2020-11-27T03:00:19.869Z</td>\n      <td>...</td>\n      <td>18.0</td>\n      <td>0.0</td>\n      <td>6</td>\n      <td>0</td>\n      <td>4</td>\n      <td>0</td>\n      <td>0</td>\n      <td>0</td>\n      <td>True</td>\n      <td>True</td>\n    </tr>\n    <tr>\n      <th>1</th>\n      <td>leito_ocupacao</td>\n      <td>_doc</td>\n      <td>0116335</td>\n      <td>1.0</td>\n      <td>Pará</td>\n      <td>PA</td>\n      <td>Marabá</td>\n      <td>0116335</td>\n      <td>HOSPITAL DE CAMPANHA COVID 19 MARABA</td>\n      <td>2020-11-26T03:00:19.985Z</td>\n      <td>...</td>\n      <td>89.0</td>\n      <td>31.0</td>\n      <td>0</td>\n      <td>0</td>\n      <td>3</td>\n      <td>0</td>\n      <td>0</td>\n      <td>0</td>\n      <td>True</td>\n      <td>True</td>\n    </tr>\n    <tr>\n      <th>2</th>\n      <td>leito_ocupacao</td>\n      <td>_doc</td>\n      <td>12769</td>\n      <td>1.0</td>\n      <td>Rio de Janeiro</td>\n      <td>rj</td>\n      <td>Niterói</td>\n      <td>12769</td>\n      <td>NaN</td>\n      <td>2020-10-18T03:00:09.902Z</td>\n      <td>...</td>\n      <td>NaN</td>\n      <td>NaN</td>\n      <td>19</td>\n      <td>0</td>\n      <td>1</td>\n      <td>7</td>\n      <td>0</td>\n      <td>0</td>\n      <td>True</td>\n      <td>True</td>\n    </tr>\n    <tr>\n      <th>3</th>\n      <td>leito_ocupacao</td>\n      <td>_doc</td>\n      <td>9614990</td>\n      <td>1.0</td>\n      <td>Paraná</td>\n      <td>pr</td>\n      <td>Marechal Cândido Rondon</td>\n      <td>9614990</td>\n      <td>NaN</td>\n      <td>2020-08-10T03:00:34.126Z</td>\n      <td>...</td>\n      <td>NaN</td>\n      <td>NaN</td>\n      <td>3</td>\n      <td>0</td>\n      <td>4</td>\n      <td>0</td>\n      <td>2</td>\n      <td>0</td>\n      <td>True</td>\n      <td>True</td>\n    </tr>\n    <tr>\n      <th>4</th>\n      <td>leito_ocupacao</td>\n      <td>_doc</td>\n      <td>9768</td>\n      <td>1.0</td>\n      <td>Mato Grosso do Sul</td>\n      <td>ms</td>\n      <td>Campo Grande</td>\n      <td>9768</td>\n      <td>NaN</td>\n      <td>2020-08-06T09:09:00.000Z</td>\n      <td>...</td>\n      <td>NaN</td>\n      <td>NaN</td>\n      <td>0</td>\n      <td>0</td>\n      <td>0</td>\n      <td>0</td>\n      <td>0</td>\n      <td>0</td>\n      <td>True</td>\n      <td>True</td>\n    </tr>\n    <tr>\n      <th>5</th>\n      <td>leito_ocupacao</td>\n      <td>_doc</td>\n      <td>2509636</td>\n      <td>1.0</td>\n      <td>Bahia</td>\n      <td>BA</td>\n      <td>Rio de Contas</td>\n      <td>2509636</td>\n      <td>HOSPITAL DE RIO DE CONTAS</td>\n      <td>2020-08-10T03:00:27.587Z</td>\n      <td>...</td>\n      <td>0.0</td>\n      <td>0.0</td>\n      <td>2</td>\n      <td>0</td>\n      <td>0</td>\n      <td>0</td>\n      <td>0</td>\n      <td>0</td>\n      <td>True</td>\n      <td>True</td>\n    </tr>\n    <tr>\n      <th>6</th>\n      <td>leito_ocupacao</td>\n      <td>_doc</td>\n      <td>2687011</td>\n      <td>1.0</td>\n      <td>Paraná</td>\n      <td>PR</td>\n      <td>Arapoti</td>\n      <td>2687011</td>\n      <td>HOSPITAL MUNICIPAL 18 DE DEZEMBRO</td>\n      <td>2020-08-05T03:00:00.000Z</td>\n      <td>...</td>\n      <td>0.0</td>\n      <td>0.0</td>\n      <td>1</td>\n      <td>0</td>\n      <td>0</td>\n      <td>0</td>\n      <td>0</td>\n      <td>0</td>\n      <td>True</td>\n      <td>True</td>\n    </tr>\n    <tr>\n      <th>7</th>\n      <td>leito_ocupacao</td>\n      <td>_doc</td>\n      <td>2711451</td>\n      <td>1.0</td>\n      <td>Pernambuco</td>\n      <td>pe</td>\n      <td>Santa Cruz da Baixa Verde</td>\n      <td>2711451</td>\n      <td>NaN</td>\n      <td>2020-08-07T03:00:21.909Z</td>\n      <td>...</td>\n      <td>NaN</td>\n      <td>NaN</td>\n      <td>8</td>\n      <td>0</td>\n      <td>5</td>\n      <td>0</td>\n      <td>0</td>\n      <td>0</td>\n      <td>True</td>\n      <td>True</td>\n    </tr>\n    <tr>\n      <th>8</th>\n      <td>leito_ocupacao</td>\n      <td>_doc</td>\n      <td>708203113539445</td>\n      <td>1.0</td>\n      <td>Santa Catarina</td>\n      <td>sc</td>\n      <td>Florianópolis</td>\n      <td>708203113539445</td>\n      <td>NaN</td>\n      <td>2020-08-09T03:00:20.896Z</td>\n      <td>...</td>\n      <td>NaN</td>\n      <td>NaN</td>\n      <td>59</td>\n      <td>22</td>\n      <td>8</td>\n      <td>10</td>\n      <td>1</td>\n      <td>0</td>\n      <td>True</td>\n      <td>True</td>\n    </tr>\n    <tr>\n      <th>9</th>\n      <td>leito_ocupacao</td>\n      <td>_doc</td>\n      <td>2356449</td>\n      <td>1.0</td>\n      <td>Pernambuco</td>\n      <td>PE</td>\n      <td>Primavera</td>\n      <td>2356449</td>\n      <td>PRONTO ATENDIMENTO MENINO DEUS</td>\n      <td>2020-08-06T03:00:19.867Z</td>\n      <td>...</td>\n      <td>4.0</td>\n      <td>0.0</td>\n      <td>0</td>\n      <td>0</td>\n      <td>3</td>\n      <td>0</td>\n      <td>3</td>\n      <td>0</td>\n      <td>True</td>\n      <td>True</td>\n    </tr>\n  </tbody>\n</table>\n<p>10 rows × 23 columns</p>\n</div>"
     },
     "metadata": {},
     "execution_count": 96
    }
   ],
   "source": [
    "vacina = r.json()\n",
    "#vacina_txt = r.text\n",
    "#vacina\n",
    "\n",
    "df_export = vacina ['hits']['hits']\n",
    "pd.json_normalize(df_export)\n",
    "#df_export"
   ]
  },
  {
   "cell_type": "code",
   "execution_count": null,
   "metadata": {},
   "outputs": [],
   "source": []
  }
 ]
}